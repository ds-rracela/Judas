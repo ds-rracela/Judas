{
 "cells": [
  {
   "cell_type": "markdown",
   "metadata": {},
   "source": [
    "# Preliminary"
   ]
  },
  {
   "cell_type": "markdown",
   "metadata": {},
   "source": [
    "## Libraries"
   ]
  },
  {
   "cell_type": "code",
   "execution_count": 1,
   "metadata": {
    "ExecuteTime": {
     "end_time": "2019-08-12T02:19:50.186287Z",
     "start_time": "2019-08-12T02:19:46.442417Z"
    }
   },
   "outputs": [
    {
     "name": "stderr",
     "output_type": "stream",
     "text": [
      "C:\\Users\\Rad\\Anaconda3\\lib\\site-packages\\tqdm\\autonotebook\\__init__.py:14: TqdmExperimentalWarning: Using `tqdm.autonotebook.tqdm` in notebook mode. Use `tqdm.tqdm` instead to force console mode (e.g. in jupyter console)\n",
      "  \" (e.g. in jupyter console)\", TqdmExperimentalWarning)\n"
     ]
    }
   ],
   "source": [
    "# Data Manipulation\n",
    "from collections import Counter\n",
    "import pandas as pd\n",
    "import numpy as np\n",
    "\n",
    "# Visualization\n",
    "import matplotlib.pyplot as plt\n",
    "import seaborn as sns\n",
    "plt.style.use('seaborn-whitegrid')\n",
    "\n",
    "# Load Judas Libraries\n",
    "from judas.regression.automate import Judas as JudasRegressor\n",
    "from judas.classification.automate import Judas as JudasClassifier\n",
    "from judas.automate import General\n",
    "\n",
    "# Import Dependencies\n",
    "%matplotlib inline"
   ]
  },
  {
   "cell_type": "code",
   "execution_count": 2,
   "metadata": {
    "ExecuteTime": {
     "end_time": "2019-08-12T02:19:50.200268Z",
     "start_time": "2019-08-12T02:19:50.192272Z"
    }
   },
   "outputs": [],
   "source": [
    "# import warnings\n",
    "# warnings.filterwarnings(\"ignore\")"
   ]
  },
  {
   "cell_type": "code",
   "execution_count": 3,
   "metadata": {
    "ExecuteTime": {
     "end_time": "2019-08-12T02:19:50.213261Z",
     "start_time": "2019-08-12T02:19:50.205265Z"
    }
   },
   "outputs": [],
   "source": [
    "# Preprocessing\n",
    "from sklearn.base import TransformerMixin\n",
    "from sklearn.preprocessing import LabelEncoder, OneHotEncoder\n",
    "from sklearn.preprocessing import MinMaxScaler, StandardScaler"
   ]
  },
  {
   "cell_type": "code",
   "execution_count": 4,
   "metadata": {
    "ExecuteTime": {
     "end_time": "2019-08-12T02:19:50.228254Z",
     "start_time": "2019-08-12T02:19:50.219257Z"
    }
   },
   "outputs": [],
   "source": [
    "# Load General Functions\n",
    "gen = General()"
   ]
  },
  {
   "cell_type": "markdown",
   "metadata": {},
   "source": [
    "## Functions"
   ]
  },
  {
   "cell_type": "code",
   "execution_count": 5,
   "metadata": {
    "ExecuteTime": {
     "end_time": "2019-08-12T02:19:50.261233Z",
     "start_time": "2019-08-12T02:19:50.235248Z"
    }
   },
   "outputs": [],
   "source": [
    "class DataFrameImputer(TransformerMixin):\n",
    "    strategy = 'mean'\n",
    "\n",
    "    def __init__(self):\n",
    "        \"\"\"Impute missing values.\n",
    "\n",
    "        Columns of dtype object are imputed with the most frequent value \n",
    "        in column.\n",
    "\n",
    "        Columns of other types are imputed with mean of column.\n",
    "\n",
    "        \"\"\"\n",
    "\n",
    "    def fit(self, X, y=None):\n",
    "        \"\"\"Imputed value will be based on strategy mean. median, mode \n",
    "        or most_frequent.\n",
    "        \"\"\"\n",
    "        if self.strategy == 'mean':\n",
    "            self.fill = pd.Series([X[c].value_counts().index[0]\n",
    "                                   if X[c].dtype == np.dtype('O') else X[c].mean() for c in X],\n",
    "                                  index=X.columns)\n",
    "        elif self.strategy == 'median':\n",
    "            self.fill = pd.Series([X[c].value_counts().index[0]\n",
    "                                   if X[c].dtype == np.dtype('O') else X[c].median() for c in X],\n",
    "                                  index=X.columns)\n",
    "        elif self.strategy == 'mode':\n",
    "            self.fill = pd.Series([X[c].value_counts().index[0]\n",
    "                                   if X[c].dtype == np.dtype('O') else X[c].mode() for c in X],\n",
    "                                  index=X.columns)\n",
    "        elif self.strategy == 'most_frequent':\n",
    "            self.fill = pd.Series([X[c].value_counts().index[0]\n",
    "                                   if X[c].dtype == np.dtype('O') else X[c].value_counts().index[0] for c in X],\n",
    "                                  index=X.columns)\n",
    "        return self\n",
    "\n",
    "    def transform(self, X, y=None):\n",
    "        return X.fillna(self.fill)"
   ]
  },
  {
   "cell_type": "markdown",
   "metadata": {},
   "source": [
    "# Data Loading and Preparation"
   ]
  },
  {
   "cell_type": "markdown",
   "metadata": {},
   "source": [
    "## Load Data"
   ]
  },
  {
   "cell_type": "code",
   "execution_count": 6,
   "metadata": {
    "ExecuteTime": {
     "end_time": "2019-08-12T02:19:50.349183Z",
     "start_time": "2019-08-12T02:19:50.265231Z"
    }
   },
   "outputs": [
    {
     "data": {
      "text/html": [
       "<div>\n",
       "<style scoped>\n",
       "    .dataframe tbody tr th:only-of-type {\n",
       "        vertical-align: middle;\n",
       "    }\n",
       "\n",
       "    .dataframe tbody tr th {\n",
       "        vertical-align: top;\n",
       "    }\n",
       "\n",
       "    .dataframe thead th {\n",
       "        text-align: right;\n",
       "    }\n",
       "</style>\n",
       "<table border=\"1\" class=\"dataframe\">\n",
       "  <thead>\n",
       "    <tr style=\"text-align: right;\">\n",
       "      <th></th>\n",
       "      <th>survived</th>\n",
       "      <th>pclass</th>\n",
       "      <th>sex</th>\n",
       "      <th>age</th>\n",
       "      <th>sibsp</th>\n",
       "      <th>parch</th>\n",
       "      <th>fare</th>\n",
       "      <th>embarked</th>\n",
       "      <th>class</th>\n",
       "      <th>who</th>\n",
       "      <th>adult_male</th>\n",
       "      <th>deck</th>\n",
       "      <th>embark_town</th>\n",
       "      <th>alive</th>\n",
       "      <th>alone</th>\n",
       "    </tr>\n",
       "  </thead>\n",
       "  <tbody>\n",
       "    <tr>\n",
       "      <th>0</th>\n",
       "      <td>0</td>\n",
       "      <td>3</td>\n",
       "      <td>male</td>\n",
       "      <td>22.0</td>\n",
       "      <td>1</td>\n",
       "      <td>0</td>\n",
       "      <td>7.2500</td>\n",
       "      <td>S</td>\n",
       "      <td>Third</td>\n",
       "      <td>man</td>\n",
       "      <td>True</td>\n",
       "      <td>NaN</td>\n",
       "      <td>Southampton</td>\n",
       "      <td>no</td>\n",
       "      <td>False</td>\n",
       "    </tr>\n",
       "    <tr>\n",
       "      <th>1</th>\n",
       "      <td>1</td>\n",
       "      <td>1</td>\n",
       "      <td>female</td>\n",
       "      <td>38.0</td>\n",
       "      <td>1</td>\n",
       "      <td>0</td>\n",
       "      <td>71.2833</td>\n",
       "      <td>C</td>\n",
       "      <td>First</td>\n",
       "      <td>woman</td>\n",
       "      <td>False</td>\n",
       "      <td>C</td>\n",
       "      <td>Cherbourg</td>\n",
       "      <td>yes</td>\n",
       "      <td>False</td>\n",
       "    </tr>\n",
       "    <tr>\n",
       "      <th>2</th>\n",
       "      <td>1</td>\n",
       "      <td>3</td>\n",
       "      <td>female</td>\n",
       "      <td>26.0</td>\n",
       "      <td>0</td>\n",
       "      <td>0</td>\n",
       "      <td>7.9250</td>\n",
       "      <td>S</td>\n",
       "      <td>Third</td>\n",
       "      <td>woman</td>\n",
       "      <td>False</td>\n",
       "      <td>NaN</td>\n",
       "      <td>Southampton</td>\n",
       "      <td>yes</td>\n",
       "      <td>True</td>\n",
       "    </tr>\n",
       "    <tr>\n",
       "      <th>3</th>\n",
       "      <td>1</td>\n",
       "      <td>1</td>\n",
       "      <td>female</td>\n",
       "      <td>35.0</td>\n",
       "      <td>1</td>\n",
       "      <td>0</td>\n",
       "      <td>53.1000</td>\n",
       "      <td>S</td>\n",
       "      <td>First</td>\n",
       "      <td>woman</td>\n",
       "      <td>False</td>\n",
       "      <td>C</td>\n",
       "      <td>Southampton</td>\n",
       "      <td>yes</td>\n",
       "      <td>False</td>\n",
       "    </tr>\n",
       "    <tr>\n",
       "      <th>4</th>\n",
       "      <td>0</td>\n",
       "      <td>3</td>\n",
       "      <td>male</td>\n",
       "      <td>35.0</td>\n",
       "      <td>0</td>\n",
       "      <td>0</td>\n",
       "      <td>8.0500</td>\n",
       "      <td>S</td>\n",
       "      <td>Third</td>\n",
       "      <td>man</td>\n",
       "      <td>True</td>\n",
       "      <td>NaN</td>\n",
       "      <td>Southampton</td>\n",
       "      <td>no</td>\n",
       "      <td>True</td>\n",
       "    </tr>\n",
       "  </tbody>\n",
       "</table>\n",
       "</div>"
      ],
      "text/plain": [
       "   survived  pclass     sex   age  sibsp  parch     fare embarked  class  \\\n",
       "0         0       3    male  22.0      1      0   7.2500        S  Third   \n",
       "1         1       1  female  38.0      1      0  71.2833        C  First   \n",
       "2         1       3  female  26.0      0      0   7.9250        S  Third   \n",
       "3         1       1  female  35.0      1      0  53.1000        S  First   \n",
       "4         0       3    male  35.0      0      0   8.0500        S  Third   \n",
       "\n",
       "     who  adult_male deck  embark_town alive  alone  \n",
       "0    man        True  NaN  Southampton    no  False  \n",
       "1  woman       False    C    Cherbourg   yes  False  \n",
       "2  woman       False  NaN  Southampton   yes   True  \n",
       "3  woman       False    C  Southampton   yes  False  \n",
       "4    man        True  NaN  Southampton    no   True  "
      ]
     },
     "execution_count": 6,
     "metadata": {},
     "output_type": "execute_result"
    }
   ],
   "source": [
    "# file = \"bank_dirty_500.xlsx\"\n",
    "\n",
    "# Excel\n",
    "# df_data = pd.read_excel(file, sheet_name='Sheet1')\n",
    "# df_data.head()\n",
    "\n",
    "# # CSV\n",
    "# df_data = pd.read_csv(file)\n",
    "# df_data.head()\n",
    "\n",
    "# # JSON\n",
    "# df_data = pd.read_json(file)\n",
    "# df_data.head()\n",
    "\n",
    "# # SNS\n",
    "df_data = sns.load_dataset('titanic')\n",
    "df_data.head()"
   ]
  },
  {
   "cell_type": "code",
   "execution_count": 7,
   "metadata": {
    "ExecuteTime": {
     "end_time": "2019-08-12T02:19:50.361176Z",
     "start_time": "2019-08-12T02:19:50.353180Z"
    }
   },
   "outputs": [
    {
     "data": {
      "text/plain": [
       "(891, 15)"
      ]
     },
     "execution_count": 7,
     "metadata": {},
     "output_type": "execute_result"
    }
   ],
   "source": [
    "df_data.shape"
   ]
  },
  {
   "cell_type": "code",
   "execution_count": 8,
   "metadata": {
    "ExecuteTime": {
     "end_time": "2019-08-12T02:19:50.379166Z",
     "start_time": "2019-08-12T02:19:50.368171Z"
    },
    "scrolled": true
   },
   "outputs": [
    {
     "data": {
      "text/plain": [
       "Index(['survived', 'pclass', 'sex', 'age', 'sibsp', 'parch', 'fare',\n",
       "       'embarked', 'class', 'who', 'adult_male', 'deck', 'embark_town',\n",
       "       'alive', 'alone'],\n",
       "      dtype='object')"
      ]
     },
     "execution_count": 8,
     "metadata": {},
     "output_type": "execute_result"
    }
   ],
   "source": [
    "df_data.columns"
   ]
  },
  {
   "cell_type": "markdown",
   "metadata": {},
   "source": [
    "## EDA"
   ]
  },
  {
   "cell_type": "markdown",
   "metadata": {
    "ExecuteTime": {
     "end_time": "2019-07-27T10:44:22.365141Z",
     "start_time": "2019-07-27T10:44:22.360141Z"
    }
   },
   "source": [
    "### Data Description"
   ]
  },
  {
   "cell_type": "code",
   "execution_count": 9,
   "metadata": {
    "ExecuteTime": {
     "end_time": "2019-08-12T02:19:50.408149Z",
     "start_time": "2019-08-12T02:19:50.385160Z"
    },
    "scrolled": true
   },
   "outputs": [
    {
     "name": "stdout",
     "output_type": "stream",
     "text": [
      "<class 'pandas.core.frame.DataFrame'>\n",
      "RangeIndex: 891 entries, 0 to 890\n",
      "Data columns (total 15 columns):\n",
      "survived       891 non-null int64\n",
      "pclass         891 non-null int64\n",
      "sex            891 non-null object\n",
      "age            714 non-null float64\n",
      "sibsp          891 non-null int64\n",
      "parch          891 non-null int64\n",
      "fare           891 non-null float64\n",
      "embarked       889 non-null object\n",
      "class          891 non-null category\n",
      "who            891 non-null object\n",
      "adult_male     891 non-null bool\n",
      "deck           203 non-null category\n",
      "embark_town    889 non-null object\n",
      "alive          891 non-null object\n",
      "alone          891 non-null bool\n",
      "dtypes: bool(2), category(2), float64(2), int64(4), object(5)\n",
      "memory usage: 80.6+ KB\n"
     ]
    }
   ],
   "source": [
    "df_data.info()"
   ]
  },
  {
   "cell_type": "markdown",
   "metadata": {},
   "source": [
    "### Histogram"
   ]
  },
  {
   "cell_type": "code",
   "execution_count": 10,
   "metadata": {
    "ExecuteTime": {
     "end_time": "2019-08-12T02:19:52.475965Z",
     "start_time": "2019-08-12T02:19:50.412148Z"
    }
   },
   "outputs": [
    {
     "data": {
      "image/png": "[encoded data removed]",
      "text/plain": [
       "<Figure size 1080x1080 with 6 Axes>"
      ]
     },
     "metadata": {
      "needs_background": "light"
     },
     "output_type": "display_data"
    }
   ],
   "source": [
    "# remove boolean as it produces error in hist\n",
    "df_data[df_data.columns.difference(['adult_male','alone'])].hist(figsize=(15,15));"
   ]
  },
  {
   "cell_type": "code",
   "execution_count": 11,
   "metadata": {
    "ExecuteTime": {
     "end_time": "2019-08-12T02:19:52.562917Z",
     "start_time": "2019-08-12T02:19:52.479963Z"
    }
   },
   "outputs": [
    {
     "data": {
      "text/html": [
       "<div>\n",
       "<style scoped>\n",
       "    .dataframe tbody tr th:only-of-type {\n",
       "        vertical-align: middle;\n",
       "    }\n",
       "\n",
       "    .dataframe tbody tr th {\n",
       "        vertical-align: top;\n",
       "    }\n",
       "\n",
       "    .dataframe thead th {\n",
       "        text-align: right;\n",
       "    }\n",
       "</style>\n",
       "<table border=\"1\" class=\"dataframe\">\n",
       "  <thead>\n",
       "    <tr style=\"text-align: right;\">\n",
       "      <th></th>\n",
       "      <th>survived</th>\n",
       "      <th>pclass</th>\n",
       "      <th>age</th>\n",
       "      <th>sibsp</th>\n",
       "      <th>parch</th>\n",
       "      <th>fare</th>\n",
       "    </tr>\n",
       "  </thead>\n",
       "  <tbody>\n",
       "    <tr>\n",
       "      <th>count</th>\n",
       "      <td>891.000000</td>\n",
       "      <td>891.000000</td>\n",
       "      <td>714.000000</td>\n",
       "      <td>891.000000</td>\n",
       "      <td>891.000000</td>\n",
       "      <td>891.000000</td>\n",
       "    </tr>\n",
       "    <tr>\n",
       "      <th>mean</th>\n",
       "      <td>0.383838</td>\n",
       "      <td>2.308642</td>\n",
       "      <td>29.699118</td>\n",
       "      <td>0.523008</td>\n",
       "      <td>0.381594</td>\n",
       "      <td>32.204208</td>\n",
       "    </tr>\n",
       "    <tr>\n",
       "      <th>std</th>\n",
       "      <td>0.486592</td>\n",
       "      <td>0.836071</td>\n",
       "      <td>14.526497</td>\n",
       "      <td>1.102743</td>\n",
       "      <td>0.806057</td>\n",
       "      <td>49.693429</td>\n",
       "    </tr>\n",
       "    <tr>\n",
       "      <th>min</th>\n",
       "      <td>0.000000</td>\n",
       "      <td>1.000000</td>\n",
       "      <td>0.420000</td>\n",
       "      <td>0.000000</td>\n",
       "      <td>0.000000</td>\n",
       "      <td>0.000000</td>\n",
       "    </tr>\n",
       "    <tr>\n",
       "      <th>25%</th>\n",
       "      <td>0.000000</td>\n",
       "      <td>2.000000</td>\n",
       "      <td>20.125000</td>\n",
       "      <td>0.000000</td>\n",
       "      <td>0.000000</td>\n",
       "      <td>7.910400</td>\n",
       "    </tr>\n",
       "    <tr>\n",
       "      <th>50%</th>\n",
       "      <td>0.000000</td>\n",
       "      <td>3.000000</td>\n",
       "      <td>28.000000</td>\n",
       "      <td>0.000000</td>\n",
       "      <td>0.000000</td>\n",
       "      <td>14.454200</td>\n",
       "    </tr>\n",
       "    <tr>\n",
       "      <th>75%</th>\n",
       "      <td>1.000000</td>\n",
       "      <td>3.000000</td>\n",
       "      <td>38.000000</td>\n",
       "      <td>1.000000</td>\n",
       "      <td>0.000000</td>\n",
       "      <td>31.000000</td>\n",
       "    </tr>\n",
       "    <tr>\n",
       "      <th>max</th>\n",
       "      <td>1.000000</td>\n",
       "      <td>3.000000</td>\n",
       "      <td>80.000000</td>\n",
       "      <td>8.000000</td>\n",
       "      <td>6.000000</td>\n",
       "      <td>512.329200</td>\n",
       "    </tr>\n",
       "  </tbody>\n",
       "</table>\n",
       "</div>"
      ],
      "text/plain": [
       "         survived      pclass         age       sibsp       parch        fare\n",
       "count  891.000000  891.000000  714.000000  891.000000  891.000000  891.000000\n",
       "mean     0.383838    2.308642   29.699118    0.523008    0.381594   32.204208\n",
       "std      0.486592    0.836071   14.526497    1.102743    0.806057   49.693429\n",
       "min      0.000000    1.000000    0.420000    0.000000    0.000000    0.000000\n",
       "25%      0.000000    2.000000   20.125000    0.000000    0.000000    7.910400\n",
       "50%      0.000000    3.000000   28.000000    0.000000    0.000000   14.454200\n",
       "75%      1.000000    3.000000   38.000000    1.000000    0.000000   31.000000\n",
       "max      1.000000    3.000000   80.000000    8.000000    6.000000  512.329200"
      ]
     },
     "execution_count": 11,
     "metadata": {},
     "output_type": "execute_result"
    }
   ],
   "source": [
    "df_data.describe()"
   ]
  },
  {
   "cell_type": "code",
   "execution_count": 12,
   "metadata": {
    "ExecuteTime": {
     "end_time": "2019-08-12T02:19:52.588900Z",
     "start_time": "2019-08-12T02:19:52.569912Z"
    }
   },
   "outputs": [
    {
     "data": {
      "text/plain": [
       "survived         0\n",
       "pclass           0\n",
       "sex              0\n",
       "age            177\n",
       "sibsp            0\n",
       "parch            0\n",
       "fare             0\n",
       "embarked         2\n",
       "class            0\n",
       "who              0\n",
       "adult_male       0\n",
       "deck           688\n",
       "embark_town      2\n",
       "alive            0\n",
       "alone            0\n",
       "dtype: int64"
      ]
     },
     "execution_count": 12,
     "metadata": {},
     "output_type": "execute_result"
    }
   ],
   "source": [
    "df_data.isnull().sum()"
   ]
  },
  {
   "cell_type": "code",
   "execution_count": 13,
   "metadata": {
    "ExecuteTime": {
     "end_time": "2019-08-12T02:19:52.602896Z",
     "start_time": "2019-08-12T02:19:52.592899Z"
    }
   },
   "outputs": [],
   "source": [
    "# replace data labeled as unknown to NaN\n",
    "# df_data = df_data.apply(lambda s: s.replace(\"unknown\",np.NaN))"
   ]
  },
  {
   "cell_type": "code",
   "execution_count": 14,
   "metadata": {
    "ExecuteTime": {
     "end_time": "2019-08-12T02:19:52.622883Z",
     "start_time": "2019-08-12T02:19:52.607890Z"
    }
   },
   "outputs": [],
   "source": [
    "#if need to drop columns manually first\n",
    "to_drop = ['embark_town', 'alive']\n",
    "df_clean = df_data.drop(to_drop, axis=1)"
   ]
  },
  {
   "cell_type": "markdown",
   "metadata": {},
   "source": [
    "## Cleaning and Handling Missing Values"
   ]
  },
  {
   "cell_type": "markdown",
   "metadata": {},
   "source": [
    "### Eliminate samples or features with missing values "
   ]
  },
  {
   "cell_type": "code",
   "execution_count": 15,
   "metadata": {
    "ExecuteTime": {
     "end_time": "2019-08-12T02:19:52.646867Z",
     "start_time": "2019-08-12T02:19:52.627878Z"
    }
   },
   "outputs": [],
   "source": [
    "df_clean = df_clean.dropna(axis=0)\n",
    "# df_data.dropna(axis=0,inplace=True)\n",
    "# df_data.dropna(axis=1)\n",
    "# df_data.dropna(how='all')\n",
    "# df_data.dropna(thresh=4)\n",
    "# df_data.dropna(subset=['C'])"
   ]
  },
  {
   "cell_type": "markdown",
   "metadata": {},
   "source": [
    "### Imputing missing values"
   ]
  },
  {
   "cell_type": "code",
   "execution_count": 16,
   "metadata": {
    "ExecuteTime": {
     "end_time": "2019-08-12T02:19:52.654863Z",
     "start_time": "2019-08-12T02:19:52.650866Z"
    }
   },
   "outputs": [],
   "source": [
    "# X = pd.DataFrame(df_data)\n",
    "# DataFrameImputer.strategy = 'mean'\n",
    "# df_dataX = DataFrameImputer().fit_transform(X)"
   ]
  },
  {
   "cell_type": "code",
   "execution_count": 17,
   "metadata": {
    "ExecuteTime": {
     "end_time": "2019-08-12T02:19:52.672857Z",
     "start_time": "2019-08-12T02:19:52.659860Z"
    }
   },
   "outputs": [],
   "source": [
    "# df_dataX.info()"
   ]
  },
  {
   "cell_type": "markdown",
   "metadata": {},
   "source": [
    "### Mapping ordinal features"
   ]
  },
  {
   "cell_type": "code",
   "execution_count": 18,
   "metadata": {
    "ExecuteTime": {
     "end_time": "2019-08-12T02:19:52.686846Z",
     "start_time": "2019-08-12T02:19:52.676852Z"
    }
   },
   "outputs": [],
   "source": [
    "# size_mapping = {\n",
    "# 'XL': 2,\n",
    "# 'L': 1,\n",
    "# 'M': 0}\n",
    "# df_data['size'] = df_data['size'].map(size_mapping)"
   ]
  },
  {
   "cell_type": "markdown",
   "metadata": {},
   "source": [
    "### Encoding class labels"
   ]
  },
  {
   "cell_type": "code",
   "execution_count": 19,
   "metadata": {
    "ExecuteTime": {
     "end_time": "2019-08-12T02:19:52.704836Z",
     "start_time": "2019-08-12T02:19:52.692841Z"
    }
   },
   "outputs": [],
   "source": [
    "# X = df_data[['color', 'size', 'price']].values\n",
    "# df_le = LabelEncoder()\n",
    "# X[:, 0] = df_le.fit_transform(X[:, 0])\n",
    "# X"
   ]
  },
  {
   "cell_type": "markdown",
   "metadata": {},
   "source": [
    "### Transforming some columns"
   ]
  },
  {
   "cell_type": "code",
   "execution_count": 20,
   "metadata": {
    "ExecuteTime": {
     "end_time": "2019-08-12T02:19:52.758804Z",
     "start_time": "2019-08-12T02:19:52.710831Z"
    }
   },
   "outputs": [
    {
     "data": {
      "text/html": [
       "<div>\n",
       "<style scoped>\n",
       "    .dataframe tbody tr th:only-of-type {\n",
       "        vertical-align: middle;\n",
       "    }\n",
       "\n",
       "    .dataframe tbody tr th {\n",
       "        vertical-align: top;\n",
       "    }\n",
       "\n",
       "    .dataframe thead th {\n",
       "        text-align: right;\n",
       "    }\n",
       "</style>\n",
       "<table border=\"1\" class=\"dataframe\">\n",
       "  <thead>\n",
       "    <tr style=\"text-align: right;\">\n",
       "      <th></th>\n",
       "      <th>survived</th>\n",
       "      <th>pclass</th>\n",
       "      <th>sex</th>\n",
       "      <th>age</th>\n",
       "      <th>sibsp</th>\n",
       "      <th>parch</th>\n",
       "      <th>fare</th>\n",
       "      <th>embarked</th>\n",
       "      <th>class</th>\n",
       "      <th>who</th>\n",
       "      <th>adult_male</th>\n",
       "      <th>deck</th>\n",
       "      <th>alone</th>\n",
       "    </tr>\n",
       "  </thead>\n",
       "  <tbody>\n",
       "    <tr>\n",
       "      <th>1</th>\n",
       "      <td>1</td>\n",
       "      <td>1</td>\n",
       "      <td>female</td>\n",
       "      <td>38.0</td>\n",
       "      <td>1</td>\n",
       "      <td>0</td>\n",
       "      <td>4.280593</td>\n",
       "      <td>C</td>\n",
       "      <td>First</td>\n",
       "      <td>woman</td>\n",
       "      <td>False</td>\n",
       "      <td>C</td>\n",
       "      <td>False</td>\n",
       "    </tr>\n",
       "    <tr>\n",
       "      <th>3</th>\n",
       "      <td>1</td>\n",
       "      <td>1</td>\n",
       "      <td>female</td>\n",
       "      <td>35.0</td>\n",
       "      <td>1</td>\n",
       "      <td>0</td>\n",
       "      <td>3.990834</td>\n",
       "      <td>S</td>\n",
       "      <td>First</td>\n",
       "      <td>woman</td>\n",
       "      <td>False</td>\n",
       "      <td>C</td>\n",
       "      <td>False</td>\n",
       "    </tr>\n",
       "    <tr>\n",
       "      <th>6</th>\n",
       "      <td>0</td>\n",
       "      <td>1</td>\n",
       "      <td>male</td>\n",
       "      <td>54.0</td>\n",
       "      <td>0</td>\n",
       "      <td>0</td>\n",
       "      <td>3.967694</td>\n",
       "      <td>S</td>\n",
       "      <td>First</td>\n",
       "      <td>man</td>\n",
       "      <td>True</td>\n",
       "      <td>E</td>\n",
       "      <td>True</td>\n",
       "    </tr>\n",
       "    <tr>\n",
       "      <th>10</th>\n",
       "      <td>1</td>\n",
       "      <td>3</td>\n",
       "      <td>female</td>\n",
       "      <td>4.0</td>\n",
       "      <td>1</td>\n",
       "      <td>1</td>\n",
       "      <td>2.873565</td>\n",
       "      <td>S</td>\n",
       "      <td>Third</td>\n",
       "      <td>child</td>\n",
       "      <td>False</td>\n",
       "      <td>G</td>\n",
       "      <td>False</td>\n",
       "    </tr>\n",
       "    <tr>\n",
       "      <th>11</th>\n",
       "      <td>1</td>\n",
       "      <td>1</td>\n",
       "      <td>female</td>\n",
       "      <td>58.0</td>\n",
       "      <td>0</td>\n",
       "      <td>0</td>\n",
       "      <td>3.316003</td>\n",
       "      <td>S</td>\n",
       "      <td>First</td>\n",
       "      <td>woman</td>\n",
       "      <td>False</td>\n",
       "      <td>C</td>\n",
       "      <td>True</td>\n",
       "    </tr>\n",
       "  </tbody>\n",
       "</table>\n",
       "</div>"
      ],
      "text/plain": [
       "    survived  pclass     sex   age  sibsp  parch      fare embarked  class  \\\n",
       "1          1       1  female  38.0      1      0  4.280593        C  First   \n",
       "3          1       1  female  35.0      1      0  3.990834        S  First   \n",
       "6          0       1    male  54.0      0      0  3.967694        S  First   \n",
       "10         1       3  female   4.0      1      1  2.873565        S  Third   \n",
       "11         1       1  female  58.0      0      0  3.316003        S  First   \n",
       "\n",
       "      who  adult_male deck  alone  \n",
       "1   woman       False    C  False  \n",
       "3   woman       False    C  False  \n",
       "6     man        True    E   True  \n",
       "10  child       False    G  False  \n",
       "11  woman       False    C   True  "
      ]
     },
     "execution_count": 20,
     "metadata": {},
     "output_type": "execute_result"
    }
   ],
   "source": [
    "df_transformed = df_clean.copy()\n",
    "log_features = ['fare']\n",
    "for feature in log_features:\n",
    "    df_transformed[feature] = np.log(df_transformed[feature]+1)\n",
    "    \n",
    "df_transformed.head()"
   ]
  },
  {
   "cell_type": "markdown",
   "metadata": {},
   "source": [
    "### Performing one-hot encoding on nominal features"
   ]
  },
  {
   "cell_type": "code",
   "execution_count": null,
   "metadata": {
    "ExecuteTime": {
     "end_time": "2019-08-03T01:28:05.619246Z",
     "start_time": "2019-08-03T01:28:05.611234Z"
    }
   },
   "outputs": [],
   "source": []
  },
  {
   "cell_type": "code",
   "execution_count": 21,
   "metadata": {
    "ExecuteTime": {
     "end_time": "2019-08-12T02:19:52.824766Z",
     "start_time": "2019-08-12T02:19:52.762803Z"
    }
   },
   "outputs": [],
   "source": [
    "# df_dum = pd.get_dummies(df_dataX, drop_first=True)\n",
    "df_dum = pd.get_dummies(df_transformed.drop('survived', axis=1), drop_first=True)"
   ]
  },
  {
   "cell_type": "code",
   "execution_count": 22,
   "metadata": {
    "ExecuteTime": {
     "end_time": "2019-08-12T02:19:52.852752Z",
     "start_time": "2019-08-12T02:19:52.828764Z"
    }
   },
   "outputs": [
    {
     "name": "stdout",
     "output_type": "stream",
     "text": [
      "<class 'pandas.core.frame.DataFrame'>\n",
      "Int64Index: 182 entries, 1 to 889\n",
      "Data columns (total 20 columns):\n",
      "pclass          182 non-null int64\n",
      "age             182 non-null float64\n",
      "sibsp           182 non-null int64\n",
      "parch           182 non-null int64\n",
      "fare            182 non-null float64\n",
      "adult_male      182 non-null bool\n",
      "alone           182 non-null bool\n",
      "sex_male        182 non-null uint8\n",
      "embarked_Q      182 non-null uint8\n",
      "embarked_S      182 non-null uint8\n",
      "class_Second    182 non-null uint8\n",
      "class_Third     182 non-null uint8\n",
      "who_man         182 non-null uint8\n",
      "who_woman       182 non-null uint8\n",
      "deck_B          182 non-null uint8\n",
      "deck_C          182 non-null uint8\n",
      "deck_D          182 non-null uint8\n",
      "deck_E          182 non-null uint8\n",
      "deck_F          182 non-null uint8\n",
      "deck_G          182 non-null uint8\n",
      "dtypes: bool(2), float64(2), int64(3), uint8(13)\n",
      "memory usage: 11.2 KB\n"
     ]
    }
   ],
   "source": [
    "df_dum.info()"
   ]
  },
  {
   "cell_type": "code",
   "execution_count": 23,
   "metadata": {
    "ExecuteTime": {
     "end_time": "2019-08-12T02:19:52.875738Z",
     "start_time": "2019-08-12T02:19:52.869740Z"
    }
   },
   "outputs": [],
   "source": [
    "# ohe = OneHotEncoder(categorical_features=[0])\n",
    "# ohe.fit_transform(X).toarray()"
   ]
  },
  {
   "cell_type": "markdown",
   "metadata": {},
   "source": [
    "## PCC"
   ]
  },
  {
   "cell_type": "code",
   "execution_count": null,
   "metadata": {
    "ExecuteTime": {
     "start_time": "2019-08-12T02:19:46.639Z"
    },
    "scrolled": true
   },
   "outputs": [
    {
     "name": "stdout",
     "output_type": "stream",
     "text": [
      "Counter({1: 123, 0: 59})\n",
      "State Count:      0\n",
      "1  123\n",
      "0   59\n",
      "\n",
      "1.25 * Proportion Chance Criterion: 70.22853520106267%\n"
     ]
    },
    {
     "data": {
      "image/png": "[encoded data removed]",
      "text/plain": [
       "<Figure size 432x288 with 1 Axes>"
      ]
     },
     "metadata": {
      "needs_background": "light"
     },
     "output_type": "display_data"
    }
   ],
   "source": [
    "# For Classification\n",
    "# gen.pcc(df_data['survived'])\n",
    "gen.pcc(df_transformed['survived'])"
   ]
  },
  {
   "cell_type": "markdown",
   "metadata": {},
   "source": [
    "## Scaling"
   ]
  },
  {
   "cell_type": "code",
   "execution_count": null,
   "metadata": {
    "ExecuteTime": {
     "start_time": "2019-08-12T02:19:46.647Z"
    }
   },
   "outputs": [],
   "source": [
    "mms = MinMaxScaler()\n",
    "stdsc = StandardScaler()"
   ]
  },
  {
   "cell_type": "markdown",
   "metadata": {},
   "source": [
    "# Supervised Learning"
   ]
  },
  {
   "cell_type": "code",
   "execution_count": null,
   "metadata": {
    "ExecuteTime": {
     "start_time": "2019-08-12T02:19:46.655Z"
    }
   },
   "outputs": [],
   "source": [
    "target_column='survived'\n",
    "# target_column='y'\n",
    "df_targetR = df_transformed[target_column]\n",
    "# df_dataR = df_dataX.drop(target_column,axis=1)\n",
    "df_dataR = df_dum"
   ]
  },
  {
   "cell_type": "code",
   "execution_count": null,
   "metadata": {
    "ExecuteTime": {
     "start_time": "2019-08-12T02:19:46.662Z"
    }
   },
   "outputs": [],
   "source": [
    "X = df_dataR\n",
    "y = pd.DataFrame(df_targetR)"
   ]
  },
  {
   "cell_type": "markdown",
   "metadata": {},
   "source": [
    "### Pairplot"
   ]
  },
  {
   "cell_type": "code",
   "execution_count": null,
   "metadata": {
    "ExecuteTime": {
     "start_time": "2019-08-12T02:19:46.669Z"
    },
    "scrolled": false
   },
   "outputs": [],
   "source": [
    "# pd.plotting.scatter_matrix(df_dataR, c=df_targetR, figsize=(15, 15), marker='o',\n",
    "#                            hist_kwds={'bins': 20}, s=60, alpha=.8,cmap='viridis');"
   ]
  },
  {
   "cell_type": "code",
   "execution_count": null,
   "metadata": {
    "ExecuteTime": {
     "start_time": "2019-08-12T02:19:46.675Z"
    }
   },
   "outputs": [],
   "source": [
    "# import seaborn as sns\n",
    "# sns.set(style=\"darkgrid\") #whitegrid, ticks  #df = sns.load_dataset(\"iris\")\n",
    "# sns.pairplot(df_dum, hue=target_column);"
   ]
  },
  {
   "cell_type": "markdown",
   "metadata": {},
   "source": [
    "### Heatmap"
   ]
  },
  {
   "cell_type": "code",
   "execution_count": null,
   "metadata": {
    "ExecuteTime": {
     "start_time": "2019-08-12T02:19:46.683Z"
    }
   },
   "outputs": [
    {
     "data": {
      "image/png": "[encoded data removed]",
      "text/plain": [
       "<Figure size 936x504 with 2 Axes>"
      ]
     },
     "metadata": {
      "needs_background": "light"
     },
     "output_type": "display_data"
    }
   ],
   "source": [
    "gen.heatmap(X)"
   ]
  },
  {
   "cell_type": "markdown",
   "metadata": {},
   "source": [
    "### Sensitivity"
   ]
  },
  {
   "cell_type": "code",
   "execution_count": null,
   "metadata": {
    "ExecuteTime": {
     "start_time": "2019-08-12T02:19:46.692Z"
    }
   },
   "outputs": [
    {
     "name": "stdout",
     "output_type": "stream",
     "text": [
      "Num Feature  Accuracy\n",
      "1        0.736248\n",
      "2        0.763661\n",
      "3        0.736339\n",
      "4        0.725137\n",
      "5        0.703097\n",
      "6        0.725228\n",
      "7        0.719763\n",
      "8        0.725228\n",
      "9        0.736248\n",
      "10        0.741712\n",
      "11        0.736248\n",
      "12        0.736248\n",
      "13        0.725228\n",
      "14        0.725228\n",
      "15        0.736248\n",
      "16        0.741712\n",
      "17        0.730692\n",
      "18        0.725228\n",
      "19        0.736248\n",
      "20        0.736248\n"
     ]
    },
    {
     "data": {
      "image/png": "[encoded data removed]",
      "text/plain": [
       "<Figure size 432x288 with 1 Axes>"
      ]
     },
     "metadata": {
      "needs_background": "light"
     },
     "output_type": "display_data"
    }
   ],
   "source": [
    "gen.sensi_feat(X,y.values.ravel())\n",
    "# gen.sensi_feat(X,y)"
   ]
  },
  {
   "cell_type": "code",
   "execution_count": null,
   "metadata": {
    "ExecuteTime": {
     "start_time": "2019-08-12T02:19:46.699Z"
    }
   },
   "outputs": [],
   "source": [
    "top=2"
   ]
  },
  {
   "cell_type": "code",
   "execution_count": null,
   "metadata": {
    "ExecuteTime": {
     "start_time": "2019-08-12T02:19:46.707Z"
    }
   },
   "outputs": [
    {
     "data": {
      "text/html": [
       "<div>\n",
       "<style scoped>\n",
       "    .dataframe tbody tr th:only-of-type {\n",
       "        vertical-align: middle;\n",
       "    }\n",
       "\n",
       "    .dataframe tbody tr th {\n",
       "        vertical-align: top;\n",
       "    }\n",
       "\n",
       "    .dataframe thead th {\n",
       "        text-align: right;\n",
       "    }\n",
       "</style>\n",
       "<table border=\"1\" class=\"dataframe\">\n",
       "  <thead>\n",
       "    <tr style=\"text-align: right;\">\n",
       "      <th></th>\n",
       "      <th>Accuracy</th>\n",
       "      <th>Feature</th>\n",
       "    </tr>\n",
       "  </thead>\n",
       "  <tbody>\n",
       "    <tr>\n",
       "      <th>7</th>\n",
       "      <td>0.741530</td>\n",
       "      <td>sex_male</td>\n",
       "    </tr>\n",
       "    <tr>\n",
       "      <th>13</th>\n",
       "      <td>0.730510</td>\n",
       "      <td>who_woman</td>\n",
       "    </tr>\n",
       "    <tr>\n",
       "      <th>5</th>\n",
       "      <td>0.692532</td>\n",
       "      <td>adult_male</td>\n",
       "    </tr>\n",
       "    <tr>\n",
       "      <th>12</th>\n",
       "      <td>0.692532</td>\n",
       "      <td>who_man</td>\n",
       "    </tr>\n",
       "    <tr>\n",
       "      <th>2</th>\n",
       "      <td>0.675865</td>\n",
       "      <td>sibsp</td>\n",
       "    </tr>\n",
       "    <tr>\n",
       "      <th>3</th>\n",
       "      <td>0.675865</td>\n",
       "      <td>parch</td>\n",
       "    </tr>\n",
       "    <tr>\n",
       "      <th>17</th>\n",
       "      <td>0.675865</td>\n",
       "      <td>deck_E</td>\n",
       "    </tr>\n",
       "    <tr>\n",
       "      <th>9</th>\n",
       "      <td>0.675865</td>\n",
       "      <td>embarked_S</td>\n",
       "    </tr>\n",
       "    <tr>\n",
       "      <th>1</th>\n",
       "      <td>0.664572</td>\n",
       "      <td>age</td>\n",
       "    </tr>\n",
       "    <tr>\n",
       "      <th>4</th>\n",
       "      <td>0.615574</td>\n",
       "      <td>fare</td>\n",
       "    </tr>\n",
       "    <tr>\n",
       "      <th>16</th>\n",
       "      <td>0.599362</td>\n",
       "      <td>deck_D</td>\n",
       "    </tr>\n",
       "    <tr>\n",
       "      <th>10</th>\n",
       "      <td>0.593898</td>\n",
       "      <td>class_Second</td>\n",
       "    </tr>\n",
       "    <tr>\n",
       "      <th>14</th>\n",
       "      <td>0.577505</td>\n",
       "      <td>deck_B</td>\n",
       "    </tr>\n",
       "    <tr>\n",
       "      <th>0</th>\n",
       "      <td>0.572040</td>\n",
       "      <td>pclass</td>\n",
       "    </tr>\n",
       "    <tr>\n",
       "      <th>6</th>\n",
       "      <td>0.565938</td>\n",
       "      <td>alone</td>\n",
       "    </tr>\n",
       "    <tr>\n",
       "      <th>15</th>\n",
       "      <td>0.561111</td>\n",
       "      <td>deck_C</td>\n",
       "    </tr>\n",
       "    <tr>\n",
       "      <th>8</th>\n",
       "      <td>0.555647</td>\n",
       "      <td>embarked_Q</td>\n",
       "    </tr>\n",
       "    <tr>\n",
       "      <th>18</th>\n",
       "      <td>0.555647</td>\n",
       "      <td>deck_F</td>\n",
       "    </tr>\n",
       "    <tr>\n",
       "      <th>19</th>\n",
       "      <td>0.550182</td>\n",
       "      <td>deck_G</td>\n",
       "    </tr>\n",
       "    <tr>\n",
       "      <th>11</th>\n",
       "      <td>0.539253</td>\n",
       "      <td>class_Third</td>\n",
       "    </tr>\n",
       "  </tbody>\n",
       "</table>\n",
       "</div>"
      ],
      "text/plain": [
       "    Accuracy       Feature\n",
       "7   0.741530      sex_male\n",
       "13  0.730510     who_woman\n",
       "5   0.692532    adult_male\n",
       "12  0.692532       who_man\n",
       "2   0.675865         sibsp\n",
       "3   0.675865         parch\n",
       "17  0.675865        deck_E\n",
       "9   0.675865    embarked_S\n",
       "1   0.664572           age\n",
       "4   0.615574          fare\n",
       "16  0.599362        deck_D\n",
       "10  0.593898  class_Second\n",
       "14  0.577505        deck_B\n",
       "0   0.572040        pclass\n",
       "6   0.565938         alone\n",
       "15  0.561111        deck_C\n",
       "8   0.555647    embarked_Q\n",
       "18  0.555647        deck_F\n",
       "19  0.550182        deck_G\n",
       "11  0.539253   class_Third"
      ]
     },
     "execution_count": 33,
     "metadata": {},
     "output_type": "execute_result"
    }
   ],
   "source": [
    "# gen.sensi(X,y).sort_values('Accuracy',ascending=False)\n",
    "gen.sensi(X,y.values.ravel()).sort_values('Accuracy',ascending=False)"
   ]
  },
  {
   "cell_type": "code",
   "execution_count": null,
   "metadata": {
    "ExecuteTime": {
     "start_time": "2019-08-12T02:19:46.714Z"
    }
   },
   "outputs": [],
   "source": [
    "# summary_knn=gen.sensi(X,y).sort_values('Accuracy',ascending=False).head(top)['Feature']\n",
    "summary_knn=gen.sensi(X,y.values.ravel()).sort_values('Accuracy',ascending=False).head(top)['Feature']"
   ]
  },
  {
   "cell_type": "code",
   "execution_count": null,
   "metadata": {
    "ExecuteTime": {
     "start_time": "2019-08-12T02:19:46.719Z"
    }
   },
   "outputs": [
    {
     "data": {
      "text/plain": [
       "['sex_male', 'who_woman']"
      ]
     },
     "execution_count": 35,
     "metadata": {},
     "output_type": "execute_result"
    }
   ],
   "source": [
    "cls_wt=list(summary_knn)\n",
    "cls_wt"
   ]
  },
  {
   "cell_type": "code",
   "execution_count": null,
   "metadata": {
    "ExecuteTime": {
     "start_time": "2019-08-12T02:19:46.735Z"
    },
    "scrolled": true
   },
   "outputs": [
    {
     "name": "stdout",
     "output_type": "stream",
     "text": [
      "knn, n neighbors=range(1, 30)\n"
     ]
    },
    {
     "data": {
      "application/vnd.jupyter.widget-view+json": {
       "model_id": "2cc603f3528948aaa492baef4410981c",
       "version_major": 2,
       "version_minor": 0
      },
      "text/plain": [
       "HBox(children=(IntProgress(value=0, max=29), HTML(value='')))"
      ]
     },
     "metadata": {},
     "output_type": "display_data"
    },
    {
     "name": "stdout",
     "output_type": "stream",
     "text": [
      "\n",
      "pclass\n",
      "knn, n neighbors=range(1, 30)\n"
     ]
    },
    {
     "data": {
      "application/vnd.jupyter.widget-view+json": {
       "model_id": "5e84cc603cd54b4fae6eba1a5678f282",
       "version_major": 2,
       "version_minor": 0
      },
      "text/plain": [
       "HBox(children=(IntProgress(value=0, max=29), HTML(value='')))"
      ]
     },
     "metadata": {},
     "output_type": "display_data"
    },
    {
     "name": "stdout",
     "output_type": "stream",
     "text": [
      "\n",
      "age\n",
      "knn, n neighbors=range(1, 30)\n"
     ]
    },
    {
     "data": {
      "application/vnd.jupyter.widget-view+json": {
       "model_id": "5112c35118d2493792f1c02efc0fb48b",
       "version_major": 2,
       "version_minor": 0
      },
      "text/plain": [
       "HBox(children=(IntProgress(value=0, max=29), HTML(value='')))"
      ]
     },
     "metadata": {},
     "output_type": "display_data"
    },
    {
     "name": "stdout",
     "output_type": "stream",
     "text": [
      "\n",
      "sibsp\n",
      "knn, n neighbors=range(1, 30)\n"
     ]
    },
    {
     "data": {
      "application/vnd.jupyter.widget-view+json": {
       "model_id": "baf55d0190994dc982089b169ab93066",
       "version_major": 2,
       "version_minor": 0
      },
      "text/plain": [
       "HBox(children=(IntProgress(value=0, max=29), HTML(value='')))"
      ]
     },
     "metadata": {},
     "output_type": "display_data"
    },
    {
     "name": "stdout",
     "output_type": "stream",
     "text": [
      "\n",
      "parch\n",
      "knn, n neighbors=range(1, 30)\n"
     ]
    },
    {
     "data": {
      "application/vnd.jupyter.widget-view+json": {
       "model_id": "1cf613f062c0428cb9c66073b3253a52",
       "version_major": 2,
       "version_minor": 0
      },
      "text/plain": [
       "HBox(children=(IntProgress(value=0, max=29), HTML(value='')))"
      ]
     },
     "metadata": {},
     "output_type": "display_data"
    },
    {
     "name": "stdout",
     "output_type": "stream",
     "text": [
      "\n",
      "fare\n",
      "knn, n neighbors=range(1, 30)\n"
     ]
    },
    {
     "data": {
      "application/vnd.jupyter.widget-view+json": {
       "model_id": "a6ae5596f3f64476b69326d1082c5ef9",
       "version_major": 2,
       "version_minor": 0
      },
      "text/plain": [
       "HBox(children=(IntProgress(value=0, max=29), HTML(value='')))"
      ]
     },
     "metadata": {},
     "output_type": "display_data"
    },
    {
     "name": "stdout",
     "output_type": "stream",
     "text": [
      "\n",
      "adult_male\n",
      "knn, n neighbors=range(1, 30)\n"
     ]
    },
    {
     "data": {
      "application/vnd.jupyter.widget-view+json": {
       "model_id": "cb02009d29d34abe8193a2167c027593",
       "version_major": 2,
       "version_minor": 0
      },
      "text/plain": [
       "HBox(children=(IntProgress(value=0, max=29), HTML(value='')))"
      ]
     },
     "metadata": {},
     "output_type": "display_data"
    },
    {
     "name": "stdout",
     "output_type": "stream",
     "text": [
      "\n",
      "alone\n",
      "knn, n neighbors=range(1, 30)\n"
     ]
    },
    {
     "data": {
      "application/vnd.jupyter.widget-view+json": {
       "model_id": "63cbaca4ca854e9f9af18becb123f23b",
       "version_major": 2,
       "version_minor": 0
      },
      "text/plain": [
       "HBox(children=(IntProgress(value=0, max=29), HTML(value='')))"
      ]
     },
     "metadata": {},
     "output_type": "display_data"
    },
    {
     "name": "stdout",
     "output_type": "stream",
     "text": [
      "\n",
      "sex_male\n",
      "knn, n neighbors=range(1, 30)\n"
     ]
    },
    {
     "data": {
      "application/vnd.jupyter.widget-view+json": {
       "model_id": "290135c37606460a91d4e75591944c13",
       "version_major": 2,
       "version_minor": 0
      },
      "text/plain": [
       "HBox(children=(IntProgress(value=0, max=29), HTML(value='')))"
      ]
     },
     "metadata": {},
     "output_type": "display_data"
    },
    {
     "name": "stdout",
     "output_type": "stream",
     "text": [
      "\n",
      "embarked_Q\n",
      "knn, n neighbors=range(1, 30)\n"
     ]
    },
    {
     "data": {
      "application/vnd.jupyter.widget-view+json": {
       "model_id": "ff5415790c6c45a894eb5c59f5acd9d0",
       "version_major": 2,
       "version_minor": 0
      },
      "text/plain": [
       "HBox(children=(IntProgress(value=0, max=29), HTML(value='')))"
      ]
     },
     "metadata": {},
     "output_type": "display_data"
    },
    {
     "name": "stdout",
     "output_type": "stream",
     "text": [
      "\n",
      "embarked_S\n",
      "knn, n neighbors=range(1, 30)\n"
     ]
    },
    {
     "data": {
      "application/vnd.jupyter.widget-view+json": {
       "model_id": "e0eae3416e6b4df684d83c4ed9c5f53c",
       "version_major": 2,
       "version_minor": 0
      },
      "text/plain": [
       "HBox(children=(IntProgress(value=0, max=29), HTML(value='')))"
      ]
     },
     "metadata": {},
     "output_type": "display_data"
    },
    {
     "name": "stdout",
     "output_type": "stream",
     "text": [
      "\n",
      "class_Second\n",
      "knn, n neighbors=range(1, 30)\n"
     ]
    },
    {
     "data": {
      "application/vnd.jupyter.widget-view+json": {
       "model_id": "940d8bd00c634fd6a10a24539af9cf15",
       "version_major": 2,
       "version_minor": 0
      },
      "text/plain": [
       "HBox(children=(IntProgress(value=0, max=29), HTML(value='')))"
      ]
     },
     "metadata": {},
     "output_type": "display_data"
    },
    {
     "name": "stdout",
     "output_type": "stream",
     "text": [
      "\n",
      "class_Third\n",
      "knn, n neighbors=range(1, 30)\n"
     ]
    },
    {
     "data": {
      "application/vnd.jupyter.widget-view+json": {
       "model_id": "a4f96e1f12c943a288ab122cc7c85a74",
       "version_major": 2,
       "version_minor": 0
      },
      "text/plain": [
       "HBox(children=(IntProgress(value=0, max=29), HTML(value='')))"
      ]
     },
     "metadata": {},
     "output_type": "display_data"
    },
    {
     "name": "stdout",
     "output_type": "stream",
     "text": [
      "\n",
      "who_man\n",
      "knn, n neighbors=range(1, 30)\n"
     ]
    },
    {
     "data": {
      "application/vnd.jupyter.widget-view+json": {
       "model_id": "4292ccfd869e491fad3b0e2f3dfe5bc6",
       "version_major": 2,
       "version_minor": 0
      },
      "text/plain": [
       "HBox(children=(IntProgress(value=0, max=29), HTML(value='')))"
      ]
     },
     "metadata": {},
     "output_type": "display_data"
    },
    {
     "name": "stdout",
     "output_type": "stream",
     "text": [
      "\n",
      "who_woman\n",
      "knn, n neighbors=range(1, 30)\n"
     ]
    },
    {
     "data": {
      "application/vnd.jupyter.widget-view+json": {
       "model_id": "ea51ca9c5c5441d4b8d234a89be79f3d",
       "version_major": 2,
       "version_minor": 0
      },
      "text/plain": [
       "HBox(children=(IntProgress(value=0, max=29), HTML(value='')))"
      ]
     },
     "metadata": {},
     "output_type": "display_data"
    },
    {
     "name": "stdout",
     "output_type": "stream",
     "text": [
      "\n",
      "deck_B\n",
      "knn, n neighbors=range(1, 30)\n"
     ]
    },
    {
     "data": {
      "application/vnd.jupyter.widget-view+json": {
       "model_id": "480ac0ac3b2446a7a896fde57796a871",
       "version_major": 2,
       "version_minor": 0
      },
      "text/plain": [
       "HBox(children=(IntProgress(value=0, max=29), HTML(value='')))"
      ]
     },
     "metadata": {},
     "output_type": "display_data"
    },
    {
     "name": "stdout",
     "output_type": "stream",
     "text": [
      "\n",
      "deck_C\n",
      "knn, n neighbors=range(1, 30)\n"
     ]
    },
    {
     "data": {
      "application/vnd.jupyter.widget-view+json": {
       "model_id": "3328c9341b1547c1910b11d4712f7d94",
       "version_major": 2,
       "version_minor": 0
      },
      "text/plain": [
       "HBox(children=(IntProgress(value=0, max=29), HTML(value='')))"
      ]
     },
     "metadata": {},
     "output_type": "display_data"
    },
    {
     "name": "stdout",
     "output_type": "stream",
     "text": [
      "\n",
      "deck_D\n",
      "knn, n neighbors=range(1, 30)\n"
     ]
    },
    {
     "data": {
      "application/vnd.jupyter.widget-view+json": {
       "model_id": "68f32534855f42108175a66697bcb201",
       "version_major": 2,
       "version_minor": 0
      },
      "text/plain": [
       "HBox(children=(IntProgress(value=0, max=29), HTML(value='')))"
      ]
     },
     "metadata": {},
     "output_type": "display_data"
    },
    {
     "name": "stdout",
     "output_type": "stream",
     "text": [
      "\n",
      "deck_E\n",
      "knn, n neighbors=range(1, 30)\n"
     ]
    },
    {
     "data": {
      "application/vnd.jupyter.widget-view+json": {
       "model_id": "079a8bbf62c44af4b7400c828d1e4fab",
       "version_major": 2,
       "version_minor": 0
      },
      "text/plain": [
       "HBox(children=(IntProgress(value=0, max=29), HTML(value='')))"
      ]
     },
     "metadata": {},
     "output_type": "display_data"
    },
    {
     "name": "stdout",
     "output_type": "stream",
     "text": [
      "\n",
      "deck_F\n",
      "knn, n neighbors=range(1, 30)\n"
     ]
    },
    {
     "data": {
      "application/vnd.jupyter.widget-view+json": {
       "model_id": "70d294ba56c34187864650d4fe48ca8a",
       "version_major": 2,
       "version_minor": 0
      },
      "text/plain": [
       "HBox(children=(IntProgress(value=0, max=29), HTML(value='')))"
      ]
     },
     "metadata": {},
     "output_type": "display_data"
    },
    {
     "name": "stdout",
     "output_type": "stream",
     "text": [
      "\n",
      "deck_G\n",
      "knn, n neighbors=range(1, 30)\n"
     ]
    },
    {
     "data": {
      "application/vnd.jupyter.widget-view+json": {
       "model_id": "129edee8d5fb49ab8ae5b2c6d46c295d",
       "version_major": 2,
       "version_minor": 0
      },
      "text/plain": [
       "HBox(children=(IntProgress(value=0, max=29), HTML(value='')))"
      ]
     },
     "metadata": {},
     "output_type": "display_data"
    },
    {
     "name": "stdout",
     "output_type": "stream",
     "text": [
      "\n"
     ]
    },
    {
     "data": {
      "text/html": [
       "<div>\n",
       "<style scoped>\n",
       "    .dataframe tbody tr th:only-of-type {\n",
       "        vertical-align: middle;\n",
       "    }\n",
       "\n",
       "    .dataframe tbody tr th {\n",
       "        vertical-align: top;\n",
       "    }\n",
       "\n",
       "    .dataframe thead th {\n",
       "        text-align: right;\n",
       "    }\n",
       "</style>\n",
       "<table border=\"1\" class=\"dataframe\">\n",
       "  <thead>\n",
       "    <tr style=\"text-align: right;\">\n",
       "      <th></th>\n",
       "      <th>accuracy</th>\n",
       "      <th>column</th>\n",
       "    </tr>\n",
       "  </thead>\n",
       "  <tbody>\n",
       "    <tr>\n",
       "      <th>0</th>\n",
       "      <td>86.96%</td>\n",
       "      <td>age</td>\n",
       "    </tr>\n",
       "    <tr>\n",
       "      <th>1</th>\n",
       "      <td>82.61%</td>\n",
       "      <td>sibsp</td>\n",
       "    </tr>\n",
       "    <tr>\n",
       "      <th>2</th>\n",
       "      <td>80.43%</td>\n",
       "      <td>pclass</td>\n",
       "    </tr>\n",
       "    <tr>\n",
       "      <th>3</th>\n",
       "      <td>80.43%</td>\n",
       "      <td>deck_F</td>\n",
       "    </tr>\n",
       "    <tr>\n",
       "      <th>4</th>\n",
       "      <td>80.43%</td>\n",
       "      <td>deck_E</td>\n",
       "    </tr>\n",
       "    <tr>\n",
       "      <th>5</th>\n",
       "      <td>80.43%</td>\n",
       "      <td>deck_D</td>\n",
       "    </tr>\n",
       "    <tr>\n",
       "      <th>6</th>\n",
       "      <td>80.43%</td>\n",
       "      <td>deck_C</td>\n",
       "    </tr>\n",
       "    <tr>\n",
       "      <th>7</th>\n",
       "      <td>80.43%</td>\n",
       "      <td>deck_B</td>\n",
       "    </tr>\n",
       "    <tr>\n",
       "      <th>8</th>\n",
       "      <td>80.43%</td>\n",
       "      <td>class_Third</td>\n",
       "    </tr>\n",
       "    <tr>\n",
       "      <th>9</th>\n",
       "      <td>80.43%</td>\n",
       "      <td>class_Second</td>\n",
       "    </tr>\n",
       "    <tr>\n",
       "      <th>10</th>\n",
       "      <td>80.43%</td>\n",
       "      <td>embarked_Q</td>\n",
       "    </tr>\n",
       "    <tr>\n",
       "      <th>11</th>\n",
       "      <td>80.43%</td>\n",
       "      <td>alone</td>\n",
       "    </tr>\n",
       "    <tr>\n",
       "      <th>12</th>\n",
       "      <td>80.43%</td>\n",
       "      <td>deck_G</td>\n",
       "    </tr>\n",
       "    <tr>\n",
       "      <th>13</th>\n",
       "      <td>78.26%</td>\n",
       "      <td>embarked_S</td>\n",
       "    </tr>\n",
       "    <tr>\n",
       "      <th>14</th>\n",
       "      <td>78.26%</td>\n",
       "      <td>who_man</td>\n",
       "    </tr>\n",
       "    <tr>\n",
       "      <th>15</th>\n",
       "      <td>78.26%</td>\n",
       "      <td>who_woman</td>\n",
       "    </tr>\n",
       "    <tr>\n",
       "      <th>16</th>\n",
       "      <td>78.26%</td>\n",
       "      <td>sex_male</td>\n",
       "    </tr>\n",
       "    <tr>\n",
       "      <th>17</th>\n",
       "      <td>78.26%</td>\n",
       "      <td>adult_male</td>\n",
       "    </tr>\n",
       "    <tr>\n",
       "      <th>18</th>\n",
       "      <td>78.26%</td>\n",
       "      <td>fare</td>\n",
       "    </tr>\n",
       "    <tr>\n",
       "      <th>19</th>\n",
       "      <td>78.26%</td>\n",
       "      <td>parch</td>\n",
       "    </tr>\n",
       "  </tbody>\n",
       "</table>\n",
       "</div>"
      ],
      "text/plain": [
       "   accuracy        column\n",
       "0    86.96%           age\n",
       "1    82.61%         sibsp\n",
       "2    80.43%        pclass\n",
       "3    80.43%        deck_F\n",
       "4    80.43%        deck_E\n",
       "5    80.43%        deck_D\n",
       "6    80.43%        deck_C\n",
       "7    80.43%        deck_B\n",
       "8    80.43%   class_Third\n",
       "9    80.43%  class_Second\n",
       "10   80.43%    embarked_Q\n",
       "11   80.43%         alone\n",
       "12   80.43%        deck_G\n",
       "13   78.26%    embarked_S\n",
       "14   78.26%       who_man\n",
       "15   78.26%     who_woman\n",
       "16   78.26%      sex_male\n",
       "17   78.26%    adult_male\n",
       "18   78.26%          fare\n",
       "19   78.26%         parch"
      ]
     },
     "execution_count": 36,
     "metadata": {},
     "output_type": "execute_result"
    }
   ],
   "source": [
    "gen.OoOKNN(X,y)"
   ]
  },
  {
   "cell_type": "markdown",
   "metadata": {},
   "source": [
    "### Lasso Regularization"
   ]
  },
  {
   "cell_type": "code",
   "execution_count": null,
   "metadata": {
    "ExecuteTime": {
     "start_time": "2019-08-12T02:19:46.745Z"
    }
   },
   "outputs": [
    {
     "name": "stdout",
     "output_type": "stream",
     "text": [
      "lasso\n"
     ]
    },
    {
     "data": {
      "application/vnd.jupyter.widget-view+json": {
       "model_id": "fe186b4e7d0348a8a9deef7ac52a23fd",
       "version_major": 2,
       "version_minor": 0
      },
      "text/plain": [
       "HBox(children=(IntProgress(value=0, max=190), HTML(value='')))"
      ]
     },
     "metadata": {},
     "output_type": "display_data"
    },
    {
     "name": "stdout",
     "output_type": "stream",
     "text": [
      "\n"
     ]
    },
    {
     "data": {
      "text/html": [
       "<div>\n",
       "<style scoped>\n",
       "    .dataframe tbody tr th:only-of-type {\n",
       "        vertical-align: middle;\n",
       "    }\n",
       "\n",
       "    .dataframe tbody tr th {\n",
       "        vertical-align: top;\n",
       "    }\n",
       "\n",
       "    .dataframe thead th {\n",
       "        text-align: right;\n",
       "    }\n",
       "</style>\n",
       "<table border=\"1\" class=\"dataframe\">\n",
       "  <thead>\n",
       "    <tr style=\"text-align: right;\">\n",
       "      <th></th>\n",
       "      <th>acc</th>\n",
       "      <th>alpha</th>\n",
       "      <th>top</th>\n",
       "    </tr>\n",
       "  </thead>\n",
       "  <tbody>\n",
       "    <tr>\n",
       "      <th>3</th>\n",
       "      <td>0.273764</td>\n",
       "      <td>1.000000e-02</td>\n",
       "      <td>[adult_male, who_woman, deck_C, parch, fare, d...</td>\n",
       "    </tr>\n",
       "    <tr>\n",
       "      <th>2</th>\n",
       "      <td>0.223947</td>\n",
       "      <td>1.000000e-03</td>\n",
       "      <td>[adult_male, deck_G, deck_C, who_woman, sex_ma...</td>\n",
       "    </tr>\n",
       "    <tr>\n",
       "      <th>1</th>\n",
       "      <td>0.208373</td>\n",
       "      <td>1.000000e-04</td>\n",
       "      <td>[adult_male, deck_G, who_woman, deck_C, sex_ma...</td>\n",
       "    </tr>\n",
       "    <tr>\n",
       "      <th>0</th>\n",
       "      <td>0.206133</td>\n",
       "      <td>1.000000e-08</td>\n",
       "      <td>[adult_male, deck_G, who_woman, deck_C, sex_ma...</td>\n",
       "    </tr>\n",
       "    <tr>\n",
       "      <th>4</th>\n",
       "      <td>0.084326</td>\n",
       "      <td>1.000000e-01</td>\n",
       "      <td>[who_woman, adult_male, age, fare, who_man, de...</td>\n",
       "    </tr>\n",
       "    <tr>\n",
       "      <th>6</th>\n",
       "      <td>0.009632</td>\n",
       "      <td>4.000000e-01</td>\n",
       "      <td>[age, deck_G, deck_F, sibsp, parch, fare, adul...</td>\n",
       "    </tr>\n",
       "    <tr>\n",
       "      <th>5</th>\n",
       "      <td>0.009047</td>\n",
       "      <td>2.000000e-01</td>\n",
       "      <td>[age, deck_G, deck_F, sibsp, parch, fare, adul...</td>\n",
       "    </tr>\n",
       "    <tr>\n",
       "      <th>7</th>\n",
       "      <td>0.006195</td>\n",
       "      <td>7.500000e-01</td>\n",
       "      <td>[age, deck_G, deck_F, sibsp, parch, fare, adul...</td>\n",
       "    </tr>\n",
       "    <tr>\n",
       "      <th>8</th>\n",
       "      <td>0.000264</td>\n",
       "      <td>1.000000e+00</td>\n",
       "      <td>[age, deck_G, deck_F, sibsp, parch, fare, adul...</td>\n",
       "    </tr>\n",
       "    <tr>\n",
       "      <th>9</th>\n",
       "      <td>-0.017659</td>\n",
       "      <td>1.500000e+00</td>\n",
       "      <td>[age, deck_G, deck_F, sibsp, parch, fare, adul...</td>\n",
       "    </tr>\n",
       "    <tr>\n",
       "      <th>10</th>\n",
       "      <td>-0.025560</td>\n",
       "      <td>3.000000e+00</td>\n",
       "      <td>[deck_G, deck_F, age, sibsp, parch, fare, adul...</td>\n",
       "    </tr>\n",
       "    <tr>\n",
       "      <th>11</th>\n",
       "      <td>-0.025560</td>\n",
       "      <td>5.000000e+00</td>\n",
       "      <td>[deck_G, deck_F, age, sibsp, parch, fare, adul...</td>\n",
       "    </tr>\n",
       "    <tr>\n",
       "      <th>12</th>\n",
       "      <td>-0.025560</td>\n",
       "      <td>1.000000e+01</td>\n",
       "      <td>[deck_G, deck_F, age, sibsp, parch, fare, adul...</td>\n",
       "    </tr>\n",
       "    <tr>\n",
       "      <th>13</th>\n",
       "      <td>-0.025560</td>\n",
       "      <td>1.500000e+01</td>\n",
       "      <td>[deck_G, deck_F, age, sibsp, parch, fare, adul...</td>\n",
       "    </tr>\n",
       "    <tr>\n",
       "      <th>14</th>\n",
       "      <td>-0.025560</td>\n",
       "      <td>2.000000e+01</td>\n",
       "      <td>[deck_G, deck_F, age, sibsp, parch, fare, adul...</td>\n",
       "    </tr>\n",
       "    <tr>\n",
       "      <th>15</th>\n",
       "      <td>-0.025560</td>\n",
       "      <td>1.000000e+02</td>\n",
       "      <td>[deck_G, deck_F, age, sibsp, parch, fare, adul...</td>\n",
       "    </tr>\n",
       "    <tr>\n",
       "      <th>16</th>\n",
       "      <td>-0.025560</td>\n",
       "      <td>3.000000e+02</td>\n",
       "      <td>[deck_G, deck_F, age, sibsp, parch, fare, adul...</td>\n",
       "    </tr>\n",
       "    <tr>\n",
       "      <th>17</th>\n",
       "      <td>-0.025560</td>\n",
       "      <td>1.000000e+03</td>\n",
       "      <td>[deck_G, deck_F, age, sibsp, parch, fare, adul...</td>\n",
       "    </tr>\n",
       "    <tr>\n",
       "      <th>18</th>\n",
       "      <td>-0.025560</td>\n",
       "      <td>5.000000e+03</td>\n",
       "      <td>[deck_G, deck_F, age, sibsp, parch, fare, adul...</td>\n",
       "    </tr>\n",
       "  </tbody>\n",
       "</table>\n",
       "</div>"
      ],
      "text/plain": [
       "         acc         alpha                                                top\n",
       "3   0.273764  1.000000e-02  [adult_male, who_woman, deck_C, parch, fare, d...\n",
       "2   0.223947  1.000000e-03  [adult_male, deck_G, deck_C, who_woman, sex_ma...\n",
       "1   0.208373  1.000000e-04  [adult_male, deck_G, who_woman, deck_C, sex_ma...\n",
       "0   0.206133  1.000000e-08  [adult_male, deck_G, who_woman, deck_C, sex_ma...\n",
       "4   0.084326  1.000000e-01  [who_woman, adult_male, age, fare, who_man, de...\n",
       "6   0.009632  4.000000e-01  [age, deck_G, deck_F, sibsp, parch, fare, adul...\n",
       "5   0.009047  2.000000e-01  [age, deck_G, deck_F, sibsp, parch, fare, adul...\n",
       "7   0.006195  7.500000e-01  [age, deck_G, deck_F, sibsp, parch, fare, adul...\n",
       "8   0.000264  1.000000e+00  [age, deck_G, deck_F, sibsp, parch, fare, adul...\n",
       "9  -0.017659  1.500000e+00  [age, deck_G, deck_F, sibsp, parch, fare, adul...\n",
       "10 -0.025560  3.000000e+00  [deck_G, deck_F, age, sibsp, parch, fare, adul...\n",
       "11 -0.025560  5.000000e+00  [deck_G, deck_F, age, sibsp, parch, fare, adul...\n",
       "12 -0.025560  1.000000e+01  [deck_G, deck_F, age, sibsp, parch, fare, adul...\n",
       "13 -0.025560  1.500000e+01  [deck_G, deck_F, age, sibsp, parch, fare, adul...\n",
       "14 -0.025560  2.000000e+01  [deck_G, deck_F, age, sibsp, parch, fare, adul...\n",
       "15 -0.025560  1.000000e+02  [deck_G, deck_F, age, sibsp, parch, fare, adul...\n",
       "16 -0.025560  3.000000e+02  [deck_G, deck_F, age, sibsp, parch, fare, adul...\n",
       "17 -0.025560  1.000000e+03  [deck_G, deck_F, age, sibsp, parch, fare, adul...\n",
       "18 -0.025560  5.000000e+03  [deck_G, deck_F, age, sibsp, parch, fare, adul..."
      ]
     },
     "execution_count": 37,
     "metadata": {},
     "output_type": "execute_result"
    }
   ],
   "source": [
    "summary_lasso=gen.LassoFS(X,y)\n",
    "summary_lasso"
   ]
  },
  {
   "cell_type": "code",
   "execution_count": null,
   "metadata": {
    "ExecuteTime": {
     "start_time": "2019-08-12T02:19:46.751Z"
    }
   },
   "outputs": [
    {
     "data": {
      "text/plain": [
       "['age', 'deck_G']"
      ]
     },
     "execution_count": 38,
     "metadata": {},
     "output_type": "execute_result"
    }
   ],
   "source": [
    "cls_wt=summary_lasso['top'][7][:2]\n",
    "cls_wt"
   ]
  },
  {
   "cell_type": "code",
   "execution_count": null,
   "metadata": {
    "ExecuteTime": {
     "start_time": "2019-08-12T02:19:46.759Z"
    }
   },
   "outputs": [],
   "source": [
    "# cls_wt = list(X.columns)"
   ]
  },
  {
   "cell_type": "code",
   "execution_count": null,
   "metadata": {
    "ExecuteTime": {
     "start_time": "2019-08-12T02:19:46.769Z"
    }
   },
   "outputs": [],
   "source": [
    "# cls_wt = ['season','yr','weathersit','temp','atemp']"
   ]
  },
  {
   "cell_type": "markdown",
   "metadata": {},
   "source": [
    "## Classification"
   ]
  },
  {
   "cell_type": "markdown",
   "metadata": {},
   "source": [
    "### Classification Modelling"
   ]
  },
  {
   "cell_type": "code",
   "execution_count": null,
   "metadata": {
    "ExecuteTime": {
     "start_time": "2019-08-12T02:19:46.779Z"
    }
   },
   "outputs": [
    {
     "name": "stdout",
     "output_type": "stream",
     "text": [
      "knn, n neighbors=range(1, 30)\n"
     ]
    },
    {
     "data": {
      "application/vnd.jupyter.widget-view+json": {
       "model_id": "051eeed4cddf4a3d8acc9dd64ba7feb2",
       "version_major": 2,
       "version_minor": 0
      },
      "text/plain": [
       "HBox(children=(IntProgress(value=0, max=580), HTML(value='')))"
      ]
     },
     "metadata": {},
     "output_type": "display_data"
    },
    {
     "name": "stdout",
     "output_type": "stream",
     "text": [
      "\n",
      "logistic, reg=l1\n"
     ]
    },
    {
     "data": {
      "application/vnd.jupyter.widget-view+json": {
       "model_id": "60880f65eb22497d83fd12f70dd75723",
       "version_major": 2,
       "version_minor": 0
      },
      "text/plain": [
       "HBox(children=(IntProgress(value=0, max=380), HTML(value='')))"
      ]
     },
     "metadata": {},
     "output_type": "display_data"
    },
    {
     "name": "stdout",
     "output_type": "stream",
     "text": [
      "\n",
      "logistic, reg=l2\n"
     ]
    },
    {
     "data": {
      "application/vnd.jupyter.widget-view+json": {
       "model_id": "c61aa40661a042ed8b1570a76a1359a9",
       "version_major": 2,
       "version_minor": 0
      },
      "text/plain": [
       "HBox(children=(IntProgress(value=0, max=380), HTML(value='')))"
      ]
     },
     "metadata": {},
     "output_type": "display_data"
    },
    {
     "name": "stdout",
     "output_type": "stream",
     "text": [
      "\n",
      "svm, reg=l1\n"
     ]
    },
    {
     "data": {
      "application/vnd.jupyter.widget-view+json": {
       "model_id": "649ef0aa61c34f6884662b4602e434ab",
       "version_major": 2,
       "version_minor": 0
      },
      "text/plain": [
       "HBox(children=(IntProgress(value=0, max=380), HTML(value='')))"
      ]
     },
     "metadata": {},
     "output_type": "display_data"
    },
    {
     "name": "stdout",
     "output_type": "stream",
     "text": [
      "\n",
      "svm, reg=l2\n"
     ]
    },
    {
     "data": {
      "application/vnd.jupyter.widget-view+json": {
       "model_id": "4ddf6c87217d474082824b9a97b2ba89",
       "version_major": 2,
       "version_minor": 0
      },
      "text/plain": [
       "HBox(children=(IntProgress(value=0, max=380), HTML(value='')))"
      ]
     },
     "metadata": {},
     "output_type": "display_data"
    },
    {
     "name": "stdout",
     "output_type": "stream",
     "text": [
      "\n",
      "nsvm-rbf\n"
     ]
    },
    {
     "data": {
      "application/vnd.jupyter.widget-view+json": {
       "model_id": "00d5c21277c948b9a9ea8a702501059d",
       "version_major": 2,
       "version_minor": 0
      },
      "text/plain": [
       "HBox(children=(IntProgress(value=0, max=380), HTML(value='')))"
      ]
     },
     "metadata": {},
     "output_type": "display_data"
    },
    {
     "name": "stdout",
     "output_type": "stream",
     "text": [
      "\n",
      "ensemble-decisiontree, max depth=range(1, 20)\n"
     ]
    },
    {
     "data": {
      "application/vnd.jupyter.widget-view+json": {
       "model_id": "688932a872ae42bc8e3542e65ed25194",
       "version_major": 2,
       "version_minor": 0
      },
      "text/plain": [
       "HBox(children=(IntProgress(value=0, max=380), HTML(value='')))"
      ]
     },
     "metadata": {},
     "output_type": "display_data"
    },
    {
     "name": "stdout",
     "output_type": "stream",
     "text": [
      "\n",
      "ensemble-randomforest, n estimators=range(1, 20)\n"
     ]
    },
    {
     "data": {
      "application/vnd.jupyter.widget-view+json": {
       "model_id": "b8860c61a1f74c52baa7bbff53469066",
       "version_major": 2,
       "version_minor": 0
      },
      "text/plain": [
       "HBox(children=(IntProgress(value=0, max=380), HTML(value='')))"
      ]
     },
     "metadata": {},
     "output_type": "display_data"
    },
    {
     "name": "stdout",
     "output_type": "stream",
     "text": [
      "\n",
      "ensemble-gbm, max depth=range(1, 10)\n"
     ]
    },
    {
     "data": {
      "application/vnd.jupyter.widget-view+json": {
       "model_id": "402616e791ab46788feb87199228a0b4",
       "version_major": 2,
       "version_minor": 0
      },
      "text/plain": [
       "HBox(children=(IntProgress(value=0, max=180), HTML(value='')))"
      ]
     },
     "metadata": {},
     "output_type": "display_data"
    },
    {
     "name": "stdout",
     "output_type": "stream",
     "text": [
      "\n"
     ]
    }
   ],
   "source": [
    "from judas.classification.automate import Judas as JudasClassifier\n",
    "\n",
    "trials = 20\n",
    "judasc = JudasClassifier()\n",
    "params = [\n",
    "    {'model': 'knn', 'trials': trials, 'k': range(1, 30)},\n",
    "    {'model': 'logistic', 'reg': 'l1', 'trials': trials},\n",
    "    {'model': 'logistic', 'reg': 'l2', 'trials': trials},\n",
    "    {'model': 'svm', 'reg': 'l1', 'trials': trials},\n",
    "    {'model': 'svm', 'reg': 'l2', 'trials': trials},\n",
    "    {'model': 'nsvm-rbf', 'trials': trials},\n",
    "    {'model': 'ensemble-decisiontree', 'trials': trials, 'maxdepth': range(1, 20)},\n",
    "    {'model': 'ensemble-randomforest', 'trials': trials, 'n_est': range(1, 20)},\n",
    "    {'model': 'ensemble-gbm', 'trials': trials, 'maxdepth': range(1, 10)},\n",
    "]\n",
    "\n",
    "judasc.automate(X,y,params)"
   ]
  },
  {
   "cell_type": "code",
   "execution_count": null,
   "metadata": {
    "ExecuteTime": {
     "start_time": "2019-08-12T02:19:46.785Z"
    }
   },
   "outputs": [
    {
     "data": {
      "text/html": [
       "<div>\n",
       "<style scoped>\n",
       "    .dataframe tbody tr th:only-of-type {\n",
       "        vertical-align: middle;\n",
       "    }\n",
       "\n",
       "    .dataframe tbody tr th {\n",
       "        vertical-align: top;\n",
       "    }\n",
       "\n",
       "    .dataframe thead th {\n",
       "        text-align: right;\n",
       "    }\n",
       "</style>\n",
       "<table border=\"1\" class=\"dataframe\">\n",
       "  <thead>\n",
       "    <tr style=\"text-align: right;\">\n",
       "      <th></th>\n",
       "      <th>Machine Learning Method</th>\n",
       "      <th>Test Accuracy</th>\n",
       "      <th>Best Parameter</th>\n",
       "      <th>Top Predictor Variable</th>\n",
       "    </tr>\n",
       "  </thead>\n",
       "  <tbody>\n",
       "    <tr>\n",
       "      <th>0</th>\n",
       "      <td>kNN</td>\n",
       "      <td>74.89%</td>\n",
       "      <td>N_Neighbor = 1</td>\n",
       "      <td>NA</td>\n",
       "    </tr>\n",
       "    <tr>\n",
       "      <th>1</th>\n",
       "      <td>Logistic (l1)</td>\n",
       "      <td>75.65%</td>\n",
       "      <td>C = 0.2</td>\n",
       "      <td>who_woman</td>\n",
       "    </tr>\n",
       "    <tr>\n",
       "      <th>2</th>\n",
       "      <td>Logistic (l2)</td>\n",
       "      <td>74.67%</td>\n",
       "      <td>C = 0.1</td>\n",
       "      <td>who_woman</td>\n",
       "    </tr>\n",
       "    <tr>\n",
       "      <th>3</th>\n",
       "      <td>Linear SVM (l1)</td>\n",
       "      <td>75.43%</td>\n",
       "      <td>C = 0.1</td>\n",
       "      <td>who_woman</td>\n",
       "    </tr>\n",
       "    <tr>\n",
       "      <th>4</th>\n",
       "      <td>Linear SVM (l2)</td>\n",
       "      <td>74.57%</td>\n",
       "      <td>C = 0.1</td>\n",
       "      <td>who_woman</td>\n",
       "    </tr>\n",
       "    <tr>\n",
       "      <th>5</th>\n",
       "      <td>Nonlinear SVM (RBF)</td>\n",
       "      <td>75.43%</td>\n",
       "      <td>gamma = 0.2</td>\n",
       "      <td>NA</td>\n",
       "    </tr>\n",
       "    <tr>\n",
       "      <th>6</th>\n",
       "      <td>Decision Trees</td>\n",
       "      <td>79.02%</td>\n",
       "      <td>depth = 1</td>\n",
       "      <td>adult_male</td>\n",
       "    </tr>\n",
       "    <tr>\n",
       "      <th>7</th>\n",
       "      <td>Random Forest</td>\n",
       "      <td>76.09%</td>\n",
       "      <td>n-estimator = 10</td>\n",
       "      <td>age</td>\n",
       "    </tr>\n",
       "    <tr>\n",
       "      <th>8</th>\n",
       "      <td>Gradient Boosting Method</td>\n",
       "      <td>75.87%</td>\n",
       "      <td>depth = 5</td>\n",
       "      <td>fare</td>\n",
       "    </tr>\n",
       "  </tbody>\n",
       "</table>\n",
       "</div>"
      ],
      "text/plain": [
       "    Machine Learning Method Test Accuracy    Best Parameter  \\\n",
       "0                       kNN        74.89%    N_Neighbor = 1   \n",
       "1             Logistic (l1)        75.65%           C = 0.2   \n",
       "2             Logistic (l2)        74.67%           C = 0.1   \n",
       "3           Linear SVM (l1)        75.43%           C = 0.1   \n",
       "4           Linear SVM (l2)        74.57%           C = 0.1   \n",
       "5       Nonlinear SVM (RBF)        75.43%       gamma = 0.2   \n",
       "6            Decision Trees        79.02%         depth = 1   \n",
       "7             Random Forest        76.09%  n-estimator = 10   \n",
       "8  Gradient Boosting Method        75.87%         depth = 5   \n",
       "\n",
       "  Top Predictor Variable  \n",
       "0                     NA  \n",
       "1              who_woman  \n",
       "2              who_woman  \n",
       "3              who_woman  \n",
       "4              who_woman  \n",
       "5                     NA  \n",
       "6             adult_male  \n",
       "7                    age  \n",
       "8                   fare  "
      ]
     },
     "execution_count": 42,
     "metadata": {},
     "output_type": "execute_result"
    }
   ],
   "source": [
    "judasc.score()"
   ]
  },
  {
   "cell_type": "code",
   "execution_count": null,
   "metadata": {
    "ExecuteTime": {
     "start_time": "2019-08-12T02:19:46.792Z"
    }
   },
   "outputs": [
    {
     "data": {
      "image/png": "[encoded data removed]",
      "text/plain": [
       "<Figure size 1080x1080 with 9 Axes>"
      ]
     },
     "metadata": {
      "needs_background": "light"
     },
     "output_type": "display_data"
    }
   ],
   "source": [
    "judasc.plot_accuracy()"
   ]
  },
  {
   "cell_type": "markdown",
   "metadata": {},
   "source": [
    "### Classification Modelling - Scaled"
   ]
  },
  {
   "cell_type": "code",
   "execution_count": null,
   "metadata": {
    "ExecuteTime": {
     "start_time": "2019-08-12T02:19:46.802Z"
    },
    "scrolled": false
   },
   "outputs": [
    {
     "name": "stdout",
     "output_type": "stream",
     "text": [
      "knn, n neighbors=range(1, 30)\n"
     ]
    },
    {
     "data": {
      "application/vnd.jupyter.widget-view+json": {
       "model_id": "078eaa54498449d68edb6c487de9cca5",
       "version_major": 2,
       "version_minor": 0
      },
      "text/plain": [
       "HBox(children=(IntProgress(value=0, max=580), HTML(value='')))"
      ]
     },
     "metadata": {},
     "output_type": "display_data"
    },
    {
     "name": "stdout",
     "output_type": "stream",
     "text": [
      "\n",
      "logistic, reg=l1\n"
     ]
    },
    {
     "data": {
      "application/vnd.jupyter.widget-view+json": {
       "model_id": "a80c8cd4ff0342b8aa202fbd0922da20",
       "version_major": 2,
       "version_minor": 0
      },
      "text/plain": [
       "HBox(children=(IntProgress(value=0, max=380), HTML(value='')))"
      ]
     },
     "metadata": {},
     "output_type": "display_data"
    },
    {
     "name": "stdout",
     "output_type": "stream",
     "text": [
      "\n",
      "logistic, reg=l2\n"
     ]
    },
    {
     "data": {
      "application/vnd.jupyter.widget-view+json": {
       "model_id": "7cf0f17cec2e46d6ab118291790a886c",
       "version_major": 2,
       "version_minor": 0
      },
      "text/plain": [
       "HBox(children=(IntProgress(value=0, max=380), HTML(value='')))"
      ]
     },
     "metadata": {},
     "output_type": "display_data"
    },
    {
     "name": "stdout",
     "output_type": "stream",
     "text": [
      "\n",
      "svm, reg=l1\n"
     ]
    },
    {
     "data": {
      "application/vnd.jupyter.widget-view+json": {
       "model_id": "57fd7ef7b8bd44ee81d3e407605943ec",
       "version_major": 2,
       "version_minor": 0
      },
      "text/plain": [
       "HBox(children=(IntProgress(value=0, max=380), HTML(value='')))"
      ]
     },
     "metadata": {},
     "output_type": "display_data"
    },
    {
     "name": "stdout",
     "output_type": "stream",
     "text": [
      "\n",
      "svm, reg=l2\n"
     ]
    },
    {
     "data": {
      "application/vnd.jupyter.widget-view+json": {
       "model_id": "9a3a2c0a62624880a9c86c1e82a0cfb5",
       "version_major": 2,
       "version_minor": 0
      },
      "text/plain": [
       "HBox(children=(IntProgress(value=0, max=380), HTML(value='')))"
      ]
     },
     "metadata": {},
     "output_type": "display_data"
    },
    {
     "name": "stdout",
     "output_type": "stream",
     "text": [
      "\n",
      "nsvm-rbf\n"
     ]
    },
    {
     "data": {
      "application/vnd.jupyter.widget-view+json": {
       "model_id": "2fb5184df2f24330a73f37b8132a49ac",
       "version_major": 2,
       "version_minor": 0
      },
      "text/plain": [
       "HBox(children=(IntProgress(value=0, max=380), HTML(value='')))"
      ]
     },
     "metadata": {},
     "output_type": "display_data"
    },
    {
     "name": "stdout",
     "output_type": "stream",
     "text": [
      "\n",
      "ensemble-decisiontree, max depth=range(1, 20)\n"
     ]
    },
    {
     "data": {
      "application/vnd.jupyter.widget-view+json": {
       "model_id": "8f014b954c89402881d917cb22068c67",
       "version_major": 2,
       "version_minor": 0
      },
      "text/plain": [
       "HBox(children=(IntProgress(value=0, max=380), HTML(value='')))"
      ]
     },
     "metadata": {},
     "output_type": "display_data"
    },
    {
     "name": "stdout",
     "output_type": "stream",
     "text": [
      "\n",
      "ensemble-randomforest, n estimators=range(1, 20)\n"
     ]
    },
    {
     "data": {
      "application/vnd.jupyter.widget-view+json": {
       "model_id": "4dea786278af4ad6a04f0d459e52996a",
       "version_major": 2,
       "version_minor": 0
      },
      "text/plain": [
       "HBox(children=(IntProgress(value=0, max=380), HTML(value='')))"
      ]
     },
     "metadata": {},
     "output_type": "display_data"
    },
    {
     "name": "stdout",
     "output_type": "stream",
     "text": [
      "\n",
      "ensemble-gbm, max depth=range(1, 10)\n"
     ]
    },
    {
     "data": {
      "application/vnd.jupyter.widget-view+json": {
       "model_id": "0064bc0f62054e4e800852b43dd1e4ff",
       "version_major": 2,
       "version_minor": 0
      },
      "text/plain": [
       "HBox(children=(IntProgress(value=0, max=180), HTML(value='')))"
      ]
     },
     "metadata": {},
     "output_type": "display_data"
    },
    {
     "name": "stdout",
     "output_type": "stream",
     "text": [
      "\n"
     ]
    }
   ],
   "source": [
    "from judas.classification.automate import Judas as JudasClassifier\n",
    "\n",
    "trials = 20\n",
    "judasc_mms = JudasClassifier()\n",
    "params = [\n",
    "    {'model': 'knn', 'trials': trials, 'k': range(1, 30), 'scaler': mms},\n",
    "    {'model': 'logistic', 'reg': 'l1', 'trials': trials, 'scaler': mms},\n",
    "    {'model': 'logistic', 'reg': 'l2', 'trials': trials, 'scaler': mms},\n",
    "    {'model': 'svm', 'reg': 'l1', 'trials': trials, 'scaler': mms},\n",
    "    {'model': 'svm', 'reg': 'l2', 'trials': trials, 'scaler': mms},\n",
    "    {'model': 'nsvm-rbf', 'trials': trials, 'scaler': mms},\n",
    "    {'model': 'ensemble-decisiontree', 'trials': trials, 'maxdepth': range(1, 20), 'scaler': mms},\n",
    "    {'model': 'ensemble-randomforest', 'trials': trials, 'n_est': range(1, 20), 'scaler': mms},\n",
    "    {'model': 'ensemble-gbm', 'trials': trials, 'maxdepth': range(1, 10), 'scaler': mms},\n",
    "]\n",
    "\n",
    "judasc_mms.automate(X, y, params)"
   ]
  },
  {
   "cell_type": "code",
   "execution_count": null,
   "metadata": {
    "ExecuteTime": {
     "start_time": "2019-08-12T02:19:46.810Z"
    }
   },
   "outputs": [
    {
     "data": {
      "text/html": [
       "<div>\n",
       "<style scoped>\n",
       "    .dataframe tbody tr th:only-of-type {\n",
       "        vertical-align: middle;\n",
       "    }\n",
       "\n",
       "    .dataframe tbody tr th {\n",
       "        vertical-align: top;\n",
       "    }\n",
       "\n",
       "    .dataframe thead th {\n",
       "        text-align: right;\n",
       "    }\n",
       "</style>\n",
       "<table border=\"1\" class=\"dataframe\">\n",
       "  <thead>\n",
       "    <tr style=\"text-align: right;\">\n",
       "      <th></th>\n",
       "      <th>Machine Learning Method</th>\n",
       "      <th>Test Accuracy</th>\n",
       "      <th>Best Parameter</th>\n",
       "      <th>Top Predictor Variable</th>\n",
       "    </tr>\n",
       "  </thead>\n",
       "  <tbody>\n",
       "    <tr>\n",
       "      <th>0</th>\n",
       "      <td>kNN</td>\n",
       "      <td>76.52%</td>\n",
       "      <td>N_Neighbor = 24</td>\n",
       "      <td>NA</td>\n",
       "    </tr>\n",
       "    <tr>\n",
       "      <th>1</th>\n",
       "      <td>Logistic (l1)</td>\n",
       "      <td>74.89%</td>\n",
       "      <td>C = 0.4</td>\n",
       "      <td>who_woman</td>\n",
       "    </tr>\n",
       "    <tr>\n",
       "      <th>2</th>\n",
       "      <td>Logistic (l2)</td>\n",
       "      <td>74.78%</td>\n",
       "      <td>C = 0.4</td>\n",
       "      <td>who_woman</td>\n",
       "    </tr>\n",
       "    <tr>\n",
       "      <th>3</th>\n",
       "      <td>Linear SVM (l1)</td>\n",
       "      <td>75.76%</td>\n",
       "      <td>C = 0.2</td>\n",
       "      <td>fare</td>\n",
       "    </tr>\n",
       "    <tr>\n",
       "      <th>4</th>\n",
       "      <td>Linear SVM (l2)</td>\n",
       "      <td>75.00%</td>\n",
       "      <td>C = 0.1</td>\n",
       "      <td>fare</td>\n",
       "    </tr>\n",
       "    <tr>\n",
       "      <th>5</th>\n",
       "      <td>Nonlinear SVM (RBF)</td>\n",
       "      <td>77.17%</td>\n",
       "      <td>gamma = 0.01</td>\n",
       "      <td>NA</td>\n",
       "    </tr>\n",
       "    <tr>\n",
       "      <th>6</th>\n",
       "      <td>Decision Trees</td>\n",
       "      <td>79.02%</td>\n",
       "      <td>depth = 1</td>\n",
       "      <td>adult_male</td>\n",
       "    </tr>\n",
       "    <tr>\n",
       "      <th>7</th>\n",
       "      <td>Random Forest</td>\n",
       "      <td>75.87%</td>\n",
       "      <td>n-estimator = 12</td>\n",
       "      <td>age</td>\n",
       "    </tr>\n",
       "    <tr>\n",
       "      <th>8</th>\n",
       "      <td>Gradient Boosting Method</td>\n",
       "      <td>75.65%</td>\n",
       "      <td>depth = 5</td>\n",
       "      <td>fare</td>\n",
       "    </tr>\n",
       "  </tbody>\n",
       "</table>\n",
       "</div>"
      ],
      "text/plain": [
       "    Machine Learning Method Test Accuracy    Best Parameter  \\\n",
       "0                       kNN        76.52%   N_Neighbor = 24   \n",
       "1             Logistic (l1)        74.89%           C = 0.4   \n",
       "2             Logistic (l2)        74.78%           C = 0.4   \n",
       "3           Linear SVM (l1)        75.76%           C = 0.2   \n",
       "4           Linear SVM (l2)        75.00%           C = 0.1   \n",
       "5       Nonlinear SVM (RBF)        77.17%      gamma = 0.01   \n",
       "6            Decision Trees        79.02%         depth = 1   \n",
       "7             Random Forest        75.87%  n-estimator = 12   \n",
       "8  Gradient Boosting Method        75.65%         depth = 5   \n",
       "\n",
       "  Top Predictor Variable  \n",
       "0                     NA  \n",
       "1              who_woman  \n",
       "2              who_woman  \n",
       "3                   fare  \n",
       "4                   fare  \n",
       "5                     NA  \n",
       "6             adult_male  \n",
       "7                    age  \n",
       "8                   fare  "
      ]
     },
     "execution_count": 45,
     "metadata": {},
     "output_type": "execute_result"
    }
   ],
   "source": [
    "judasc_mms.score()"
   ]
  },
  {
   "cell_type": "code",
   "execution_count": null,
   "metadata": {
    "ExecuteTime": {
     "start_time": "2019-08-12T02:19:46.818Z"
    }
   },
   "outputs": [
    {
     "data": {
      "image/png": "[encoded data removed]",
      "text/plain": [
       "<Figure size 1080x1080 with 9 Axes>"
      ]
     },
     "metadata": {
      "needs_background": "light"
     },
     "output_type": "display_data"
    }
   ],
   "source": [
    "judasc_mms.plot_accuracy()"
   ]
  },
  {
   "cell_type": "code",
   "execution_count": null,
   "metadata": {
    "ExecuteTime": {
     "start_time": "2019-08-12T02:19:46.826Z"
    },
    "scrolled": false
   },
   "outputs": [
    {
     "name": "stdout",
     "output_type": "stream",
     "text": [
      "knn, n neighbors=range(1, 30)\n"
     ]
    },
    {
     "data": {
      "application/vnd.jupyter.widget-view+json": {
       "model_id": "b068bb704f56413cb8fc9203c5959cfe",
       "version_major": 2,
       "version_minor": 0
      },
      "text/plain": [
       "HBox(children=(IntProgress(value=0, max=580), HTML(value='')))"
      ]
     },
     "metadata": {},
     "output_type": "display_data"
    },
    {
     "name": "stdout",
     "output_type": "stream",
     "text": [
      "\n",
      "logistic, reg=l1\n"
     ]
    },
    {
     "data": {
      "application/vnd.jupyter.widget-view+json": {
       "model_id": "c1a1d698493c46de9444fed2fb6d9a7a",
       "version_major": 2,
       "version_minor": 0
      },
      "text/plain": [
       "HBox(children=(IntProgress(value=0, max=380), HTML(value='')))"
      ]
     },
     "metadata": {},
     "output_type": "display_data"
    },
    {
     "name": "stdout",
     "output_type": "stream",
     "text": [
      "\n",
      "logistic, reg=l2\n"
     ]
    },
    {
     "data": {
      "application/vnd.jupyter.widget-view+json": {
       "model_id": "b2461880c12e44f79be5f0c80318811c",
       "version_major": 2,
       "version_minor": 0
      },
      "text/plain": [
       "HBox(children=(IntProgress(value=0, max=380), HTML(value='')))"
      ]
     },
     "metadata": {},
     "output_type": "display_data"
    },
    {
     "name": "stdout",
     "output_type": "stream",
     "text": [
      "\n",
      "svm, reg=l1\n"
     ]
    },
    {
     "data": {
      "application/vnd.jupyter.widget-view+json": {
       "model_id": "04b10d729693424083d61a8d0ab75521",
       "version_major": 2,
       "version_minor": 0
      },
      "text/plain": [
       "HBox(children=(IntProgress(value=0, max=380), HTML(value='')))"
      ]
     },
     "metadata": {},
     "output_type": "display_data"
    },
    {
     "name": "stdout",
     "output_type": "stream",
     "text": [
      "\n",
      "svm, reg=l2\n"
     ]
    },
    {
     "data": {
      "application/vnd.jupyter.widget-view+json": {
       "model_id": "48a5d68010584bb7ace66b2508663aa6",
       "version_major": 2,
       "version_minor": 0
      },
      "text/plain": [
       "HBox(children=(IntProgress(value=0, max=380), HTML(value='')))"
      ]
     },
     "metadata": {},
     "output_type": "display_data"
    },
    {
     "name": "stdout",
     "output_type": "stream",
     "text": [
      "\n",
      "nsvm-rbf\n"
     ]
    },
    {
     "data": {
      "application/vnd.jupyter.widget-view+json": {
       "model_id": "6a0113a345344bf4976792c59fa134b0",
       "version_major": 2,
       "version_minor": 0
      },
      "text/plain": [
       "HBox(children=(IntProgress(value=0, max=380), HTML(value='')))"
      ]
     },
     "metadata": {},
     "output_type": "display_data"
    },
    {
     "name": "stdout",
     "output_type": "stream",
     "text": [
      "\n",
      "ensemble-decisiontree, max depth=range(1, 20)\n"
     ]
    },
    {
     "data": {
      "application/vnd.jupyter.widget-view+json": {
       "model_id": "f9cd1c55c0044eb8b2dee07b5106c279",
       "version_major": 2,
       "version_minor": 0
      },
      "text/plain": [
       "HBox(children=(IntProgress(value=0, max=380), HTML(value='')))"
      ]
     },
     "metadata": {},
     "output_type": "display_data"
    },
    {
     "name": "stdout",
     "output_type": "stream",
     "text": [
      "\n",
      "ensemble-randomforest, n estimators=range(1, 20)\n"
     ]
    },
    {
     "data": {
      "application/vnd.jupyter.widget-view+json": {
       "model_id": "85595935ec724410bc1316dbb14b8454",
       "version_major": 2,
       "version_minor": 0
      },
      "text/plain": [
       "HBox(children=(IntProgress(value=0, max=380), HTML(value='')))"
      ]
     },
     "metadata": {},
     "output_type": "display_data"
    },
    {
     "name": "stdout",
     "output_type": "stream",
     "text": [
      "\n",
      "ensemble-gbm, max depth=range(1, 10)\n"
     ]
    },
    {
     "data": {
      "application/vnd.jupyter.widget-view+json": {
       "model_id": "a38fe65eff0c406c834470360be6e578",
       "version_major": 2,
       "version_minor": 0
      },
      "text/plain": [
       "HBox(children=(IntProgress(value=0, max=180), HTML(value='')))"
      ]
     },
     "metadata": {},
     "output_type": "display_data"
    },
    {
     "name": "stdout",
     "output_type": "stream",
     "text": [
      "\n"
     ]
    }
   ],
   "source": [
    "from judas.classification.automate import Judas as JudasClassifier\n",
    "\n",
    "trials = 20\n",
    "judasc_std = JudasClassifier()\n",
    "params = [\n",
    "    {'model': 'knn', 'trials': trials, 'k': range(1, 30), 'scaler': stdsc},\n",
    "    {'model': 'logistic', 'reg': 'l1', 'trials': trials, 'scaler': stdsc},\n",
    "    {'model': 'logistic', 'reg': 'l2', 'trials': trials, 'scaler': stdsc},\n",
    "    {'model': 'svm', 'reg': 'l1', 'trials': trials, 'scaler': stdsc},\n",
    "    {'model': 'svm', 'reg': 'l2', 'trials': trials, 'scaler': stdsc},\n",
    "    {'model': 'nsvm-rbf', 'trials': trials, 'scaler': stdsc},\n",
    "    {'model': 'ensemble-decisiontree', 'trials': trials, 'maxdepth': range(1, 20), 'scaler': stdsc},\n",
    "    {'model': 'ensemble-randomforest', 'trials': trials, 'n_est': range(1, 20), 'scaler': stdsc},\n",
    "    {'model': 'ensemble-gbm', 'trials': trials, 'maxdepth': range(1, 10), 'scaler': stdsc},\n",
    "]\n",
    "\n",
    "judasc_std.automate(X, y, params)"
   ]
  },
  {
   "cell_type": "code",
   "execution_count": null,
   "metadata": {
    "ExecuteTime": {
     "start_time": "2019-08-12T02:19:46.831Z"
    }
   },
   "outputs": [
    {
     "data": {
      "text/html": [
       "<div>\n",
       "<style scoped>\n",
       "    .dataframe tbody tr th:only-of-type {\n",
       "        vertical-align: middle;\n",
       "    }\n",
       "\n",
       "    .dataframe tbody tr th {\n",
       "        vertical-align: top;\n",
       "    }\n",
       "\n",
       "    .dataframe thead th {\n",
       "        text-align: right;\n",
       "    }\n",
       "</style>\n",
       "<table border=\"1\" class=\"dataframe\">\n",
       "  <thead>\n",
       "    <tr style=\"text-align: right;\">\n",
       "      <th></th>\n",
       "      <th>Machine Learning Method</th>\n",
       "      <th>Test Accuracy</th>\n",
       "      <th>Best Parameter</th>\n",
       "      <th>Top Predictor Variable</th>\n",
       "    </tr>\n",
       "  </thead>\n",
       "  <tbody>\n",
       "    <tr>\n",
       "      <th>0</th>\n",
       "      <td>kNN</td>\n",
       "      <td>74.89%</td>\n",
       "      <td>N_Neighbor = 6</td>\n",
       "      <td>NA</td>\n",
       "    </tr>\n",
       "    <tr>\n",
       "      <th>1</th>\n",
       "      <td>Logistic (l1)</td>\n",
       "      <td>77.39%</td>\n",
       "      <td>C = 0.1</td>\n",
       "      <td>who_man</td>\n",
       "    </tr>\n",
       "    <tr>\n",
       "      <th>2</th>\n",
       "      <td>Logistic (l2)</td>\n",
       "      <td>77.50%</td>\n",
       "      <td>C = 0.001</td>\n",
       "      <td>adult_male</td>\n",
       "    </tr>\n",
       "    <tr>\n",
       "      <th>3</th>\n",
       "      <td>Linear SVM (l1)</td>\n",
       "      <td>77.83%</td>\n",
       "      <td>C = 0.01</td>\n",
       "      <td>who_man</td>\n",
       "    </tr>\n",
       "    <tr>\n",
       "      <th>4</th>\n",
       "      <td>Linear SVM (l2)</td>\n",
       "      <td>77.61%</td>\n",
       "      <td>C = 0.001</td>\n",
       "      <td>adult_male</td>\n",
       "    </tr>\n",
       "    <tr>\n",
       "      <th>5</th>\n",
       "      <td>Nonlinear SVM (RBF)</td>\n",
       "      <td>76.20%</td>\n",
       "      <td>gamma = 0.001</td>\n",
       "      <td>NA</td>\n",
       "    </tr>\n",
       "    <tr>\n",
       "      <th>6</th>\n",
       "      <td>Decision Trees</td>\n",
       "      <td>79.02%</td>\n",
       "      <td>depth = 1</td>\n",
       "      <td>adult_male</td>\n",
       "    </tr>\n",
       "    <tr>\n",
       "      <th>7</th>\n",
       "      <td>Random Forest</td>\n",
       "      <td>75.87%</td>\n",
       "      <td>n-estimator = 12</td>\n",
       "      <td>age</td>\n",
       "    </tr>\n",
       "    <tr>\n",
       "      <th>8</th>\n",
       "      <td>Gradient Boosting Method</td>\n",
       "      <td>75.54%</td>\n",
       "      <td>depth = 5</td>\n",
       "      <td>fare</td>\n",
       "    </tr>\n",
       "  </tbody>\n",
       "</table>\n",
       "</div>"
      ],
      "text/plain": [
       "    Machine Learning Method Test Accuracy    Best Parameter  \\\n",
       "0                       kNN        74.89%    N_Neighbor = 6   \n",
       "1             Logistic (l1)        77.39%           C = 0.1   \n",
       "2             Logistic (l2)        77.50%         C = 0.001   \n",
       "3           Linear SVM (l1)        77.83%          C = 0.01   \n",
       "4           Linear SVM (l2)        77.61%         C = 0.001   \n",
       "5       Nonlinear SVM (RBF)        76.20%     gamma = 0.001   \n",
       "6            Decision Trees        79.02%         depth = 1   \n",
       "7             Random Forest        75.87%  n-estimator = 12   \n",
       "8  Gradient Boosting Method        75.54%         depth = 5   \n",
       "\n",
       "  Top Predictor Variable  \n",
       "0                     NA  \n",
       "1                who_man  \n",
       "2             adult_male  \n",
       "3                who_man  \n",
       "4             adult_male  \n",
       "5                     NA  \n",
       "6             adult_male  \n",
       "7                    age  \n",
       "8                   fare  "
      ]
     },
     "execution_count": 48,
     "metadata": {},
     "output_type": "execute_result"
    }
   ],
   "source": [
    "cls_summary = judasc_std.score()\n",
    "cls_summary"
   ]
  },
  {
   "cell_type": "code",
   "execution_count": null,
   "metadata": {
    "ExecuteTime": {
     "start_time": "2019-08-12T02:19:46.837Z"
    },
    "scrolled": false
   },
   "outputs": [
    {
     "data": {
      "image/png": "[encoded data removed]",
      "text/plain": [
       "<Figure size 1080x1080 with 9 Axes>"
      ]
     },
     "metadata": {
      "needs_background": "light"
     },
     "output_type": "display_data"
    }
   ],
   "source": [
    "judasc_std.plot_accuracy()"
   ]
  },
  {
   "cell_type": "markdown",
   "metadata": {},
   "source": [
    "## Regression"
   ]
  },
  {
   "cell_type": "markdown",
   "metadata": {},
   "source": [
    "Different Dataset"
   ]
  },
  {
   "cell_type": "markdown",
   "metadata": {},
   "source": [
    "### Different Dataset"
   ]
  },
  {
   "cell_type": "code",
   "execution_count": null,
   "metadata": {
    "ExecuteTime": {
     "start_time": "2019-08-12T02:19:46.848Z"
    }
   },
   "outputs": [
    {
     "data": {
      "text/html": [
       "<div>\n",
       "<style scoped>\n",
       "    .dataframe tbody tr th:only-of-type {\n",
       "        vertical-align: middle;\n",
       "    }\n",
       "\n",
       "    .dataframe tbody tr th {\n",
       "        vertical-align: top;\n",
       "    }\n",
       "\n",
       "    .dataframe thead th {\n",
       "        text-align: right;\n",
       "    }\n",
       "</style>\n",
       "<table border=\"1\" class=\"dataframe\">\n",
       "  <thead>\n",
       "    <tr style=\"text-align: right;\">\n",
       "      <th></th>\n",
       "      <th>col0</th>\n",
       "      <th>col1</th>\n",
       "      <th>col2</th>\n",
       "      <th>col3</th>\n",
       "      <th>col4</th>\n",
       "      <th>col5</th>\n",
       "    </tr>\n",
       "  </thead>\n",
       "  <tbody>\n",
       "    <tr>\n",
       "      <th>0</th>\n",
       "      <td>0.0</td>\n",
       "      <td>91.457324</td>\n",
       "      <td>0.0</td>\n",
       "      <td>0.0</td>\n",
       "      <td>0.0</td>\n",
       "      <td>0.0</td>\n",
       "    </tr>\n",
       "    <tr>\n",
       "      <th>1</th>\n",
       "      <td>1.0</td>\n",
       "      <td>75.239808</td>\n",
       "      <td>0.0</td>\n",
       "      <td>0.0</td>\n",
       "      <td>0.0</td>\n",
       "      <td>0.0</td>\n",
       "    </tr>\n",
       "    <tr>\n",
       "      <th>2</th>\n",
       "      <td>2.0</td>\n",
       "      <td>66.653150</td>\n",
       "      <td>0.0</td>\n",
       "      <td>0.0</td>\n",
       "      <td>0.0</td>\n",
       "      <td>0.0</td>\n",
       "    </tr>\n",
       "    <tr>\n",
       "      <th>3</th>\n",
       "      <td>3.0</td>\n",
       "      <td>86.721869</td>\n",
       "      <td>0.0</td>\n",
       "      <td>0.0</td>\n",
       "      <td>0.0</td>\n",
       "      <td>0.0</td>\n",
       "    </tr>\n",
       "    <tr>\n",
       "      <th>4</th>\n",
       "      <td>4.0</td>\n",
       "      <td>20.631380</td>\n",
       "      <td>0.0</td>\n",
       "      <td>0.0</td>\n",
       "      <td>0.0</td>\n",
       "      <td>0.0</td>\n",
       "    </tr>\n",
       "  </tbody>\n",
       "</table>\n",
       "</div>"
      ],
      "text/plain": [
       "   col0       col1  col2  col3  col4  col5\n",
       "0   0.0  91.457324   0.0   0.0   0.0   0.0\n",
       "1   1.0  75.239808   0.0   0.0   0.0   0.0\n",
       "2   2.0  66.653150   0.0   0.0   0.0   0.0\n",
       "3   3.0  86.721869   0.0   0.0   0.0   0.0\n",
       "4   4.0  20.631380   0.0   0.0   0.0   0.0"
      ]
     },
     "execution_count": 50,
     "metadata": {},
     "output_type": "execute_result"
    }
   ],
   "source": [
    "X1 = np.arange(100)\n",
    "X2 = np.random.uniform(0,100,100)\n",
    "X = [X1, X2]\n",
    "y = X1 + X2\n",
    "# y = pd.Series(y,name='Target')\n",
    "\n",
    "X = np.concatenate([X, [np.zeros(100)]*4], axis=0).T\n",
    "X = pd.DataFrame(X, columns=['col{}'.format(i) for i in range(X.shape[1])])\n",
    "X.head()"
   ]
  },
  {
   "cell_type": "markdown",
   "metadata": {},
   "source": [
    "### Regression Modelling"
   ]
  },
  {
   "cell_type": "code",
   "execution_count": null,
   "metadata": {
    "ExecuteTime": {
     "start_time": "2019-08-12T02:19:46.859Z"
    }
   },
   "outputs": [
    {
     "name": "stdout",
     "output_type": "stream",
     "text": [
      "knn, n neighbors=range(1, 30)\n"
     ]
    },
    {
     "data": {
      "application/vnd.jupyter.widget-view+json": {
       "model_id": "bab9a12f86bc45d2a5bb0daa397c2d0e",
       "version_major": 2,
       "version_minor": 0
      },
      "text/plain": [
       "HBox(children=(IntProgress(value=0, max=145), HTML(value='')))"
      ]
     },
     "metadata": {},
     "output_type": "display_data"
    },
    {
     "name": "stdout",
     "output_type": "stream",
     "text": [
      "\n",
      "linear\n"
     ]
    },
    {
     "data": {
      "application/vnd.jupyter.widget-view+json": {
       "model_id": "60e52d516db74cfea58e9765e63b7e71",
       "version_major": 2,
       "version_minor": 0
      },
      "text/plain": [
       "HBox(children=(IntProgress(value=0, max=95), HTML(value='')))"
      ]
     },
     "metadata": {},
     "output_type": "display_data"
    },
    {
     "name": "stdout",
     "output_type": "stream",
     "text": [
      "\n",
      "lasso\n"
     ]
    },
    {
     "data": {
      "application/vnd.jupyter.widget-view+json": {
       "model_id": "e601b5b3393a4cb188801c4410813a7b",
       "version_major": 2,
       "version_minor": 0
      },
      "text/plain": [
       "HBox(children=(IntProgress(value=0, max=95), HTML(value='')))"
      ]
     },
     "metadata": {},
     "output_type": "display_data"
    },
    {
     "name": "stdout",
     "output_type": "stream",
     "text": [
      "\n",
      "ridge\n"
     ]
    },
    {
     "data": {
      "application/vnd.jupyter.widget-view+json": {
       "model_id": "6389f9638170428daec8f6eff062b45f",
       "version_major": 2,
       "version_minor": 0
      },
      "text/plain": [
       "HBox(children=(IntProgress(value=0, max=95), HTML(value='')))"
      ]
     },
     "metadata": {},
     "output_type": "display_data"
    },
    {
     "name": "stdout",
     "output_type": "stream",
     "text": [
      "\n",
      "svm-rbf\n"
     ]
    },
    {
     "data": {
      "application/vnd.jupyter.widget-view+json": {
       "model_id": "9298ec0e8eb340e483d19e97a003bcd4",
       "version_major": 2,
       "version_minor": 0
      },
      "text/plain": [
       "HBox(children=(IntProgress(value=0, max=95), HTML(value='')))"
      ]
     },
     "metadata": {},
     "output_type": "display_data"
    },
    {
     "name": "stdout",
     "output_type": "stream",
     "text": [
      "\n",
      "ensemble-decisiontree, max depth=range(1, 20)\n"
     ]
    },
    {
     "data": {
      "application/vnd.jupyter.widget-view+json": {
       "model_id": "e5196111039049d99c882583311076ec",
       "version_major": 2,
       "version_minor": 0
      },
      "text/plain": [
       "HBox(children=(IntProgress(value=0, max=95), HTML(value='')))"
      ]
     },
     "metadata": {},
     "output_type": "display_data"
    },
    {
     "name": "stdout",
     "output_type": "stream",
     "text": [
      "\n",
      "[0.19267853 0.5554475  0.78809159 0.83678788 0.89771347 0.89259723\n",
      " 0.91643069 0.9197742  0.91399841 0.90907314 0.90907314 0.90907314\n",
      " 0.90907314 0.90907314 0.90907314 0.90907314 0.90907314 0.90907314\n",
      " 0.90907314]\n",
      "ensemble-randomforest, n estimators=range(1, 20)\n"
     ]
    },
    {
     "data": {
      "application/vnd.jupyter.widget-view+json": {
       "model_id": "99cdfac9d8db428f8aaa3ed3839bba43",
       "version_major": 2,
       "version_minor": 0
      },
      "text/plain": [
       "HBox(children=(IntProgress(value=0, max=95), HTML(value='')))"
      ]
     },
     "metadata": {},
     "output_type": "display_data"
    },
    {
     "name": "stdout",
     "output_type": "stream",
     "text": [
      "\n",
      "ensemble-gbm, max depth=range(1, 10)\n"
     ]
    },
    {
     "data": {
      "application/vnd.jupyter.widget-view+json": {
       "model_id": "e7fc3dbab3b74fb9bf63ffb456be7c8d",
       "version_major": 2,
       "version_minor": 0
      },
      "text/plain": [
       "HBox(children=(IntProgress(value=0, max=45), HTML(value='')))"
      ]
     },
     "metadata": {},
     "output_type": "display_data"
    },
    {
     "name": "stdout",
     "output_type": "stream",
     "text": [
      "\n"
     ]
    }
   ],
   "source": [
    "from judas.regression.automate import Judas as JudasRegressor\n",
    "\n",
    "trials = 5\n",
    "judasr = JudasRegressor()\n",
    "params = [\n",
    "    {'model': 'knn', 'trials': trials, 'k': range(1, 30)},\n",
    "    {'model': 'linear', 'trials': trials},\n",
    "    {'model': 'lasso', 'trials': trials},\n",
    "    {'model': 'ridge', 'trials': trials},\n",
    "#     {'model': 'svm', 'trials': trials},\n",
    "    {'model': 'svm-rbf', 'trials': trials},\n",
    "#     {'model': 'svm-poly', 'trials': trials},\n",
    "    {'model': 'ensemble-decisiontree', 'trials': trials, 'maxdepth': range(1, 20)},\n",
    "    {'model': 'ensemble-randomforest', 'trials': trials, 'n_est': range(1, 20)},\n",
    "    {'model': 'ensemble-gbm', 'trials': trials, 'maxdepth': range(1, 10)},\n",
    "]\n",
    "judasr.automate(X,y,params)"
   ]
  },
  {
   "cell_type": "code",
   "execution_count": null,
   "metadata": {
    "ExecuteTime": {
     "start_time": "2019-08-12T02:19:46.875Z"
    }
   },
   "outputs": [
    {
     "data": {
      "text/html": [
       "<div>\n",
       "<style scoped>\n",
       "    .dataframe tbody tr th:only-of-type {\n",
       "        vertical-align: middle;\n",
       "    }\n",
       "\n",
       "    .dataframe tbody tr th {\n",
       "        vertical-align: top;\n",
       "    }\n",
       "\n",
       "    .dataframe thead th {\n",
       "        text-align: right;\n",
       "    }\n",
       "</style>\n",
       "<table border=\"1\" class=\"dataframe\">\n",
       "  <thead>\n",
       "    <tr style=\"text-align: right;\">\n",
       "      <th></th>\n",
       "      <th>Machine Learning Method</th>\n",
       "      <th>Test Accuracy</th>\n",
       "      <th>Best Parameter</th>\n",
       "      <th>Top Predictor Variable</th>\n",
       "    </tr>\n",
       "  </thead>\n",
       "  <tbody>\n",
       "    <tr>\n",
       "      <th>0</th>\n",
       "      <td>kNN</td>\n",
       "      <td>97.82%</td>\n",
       "      <td>N_Neighbor = 3</td>\n",
       "      <td>NA</td>\n",
       "    </tr>\n",
       "    <tr>\n",
       "      <th>1</th>\n",
       "      <td>Linear</td>\n",
       "      <td>100.00%</td>\n",
       "      <td>NA</td>\n",
       "      <td>col0</td>\n",
       "    </tr>\n",
       "    <tr>\n",
       "      <th>2</th>\n",
       "      <td>Lasso</td>\n",
       "      <td>100.00%</td>\n",
       "      <td>alpha = 1e-08</td>\n",
       "      <td>col0</td>\n",
       "    </tr>\n",
       "    <tr>\n",
       "      <th>3</th>\n",
       "      <td>Ridge</td>\n",
       "      <td>100.00%</td>\n",
       "      <td>alpha = 1e-08</td>\n",
       "      <td>col0</td>\n",
       "    </tr>\n",
       "    <tr>\n",
       "      <th>4</th>\n",
       "      <td>SVR (rbf)</td>\n",
       "      <td>8.56%</td>\n",
       "      <td>C = 100</td>\n",
       "      <td>NA</td>\n",
       "    </tr>\n",
       "    <tr>\n",
       "      <th>5</th>\n",
       "      <td>Decision Trees</td>\n",
       "      <td>91.98%</td>\n",
       "      <td>depth = 8</td>\n",
       "      <td>col0</td>\n",
       "    </tr>\n",
       "    <tr>\n",
       "      <th>6</th>\n",
       "      <td>Random Forest</td>\n",
       "      <td>95.87%</td>\n",
       "      <td>n-estimator = 18</td>\n",
       "      <td>col0</td>\n",
       "    </tr>\n",
       "    <tr>\n",
       "      <th>7</th>\n",
       "      <td>Gradient Boosting Method</td>\n",
       "      <td>76.98%</td>\n",
       "      <td>depth = 5</td>\n",
       "      <td>col0</td>\n",
       "    </tr>\n",
       "  </tbody>\n",
       "</table>\n",
       "</div>"
      ],
      "text/plain": [
       "    Machine Learning Method Test Accuracy    Best Parameter  \\\n",
       "0                       kNN        97.82%    N_Neighbor = 3   \n",
       "1                    Linear       100.00%                NA   \n",
       "2                     Lasso       100.00%     alpha = 1e-08   \n",
       "3                     Ridge       100.00%     alpha = 1e-08   \n",
       "4                 SVR (rbf)         8.56%           C = 100   \n",
       "5            Decision Trees        91.98%         depth = 8   \n",
       "6             Random Forest        95.87%  n-estimator = 18   \n",
       "7  Gradient Boosting Method        76.98%         depth = 5   \n",
       "\n",
       "  Top Predictor Variable  \n",
       "0                     NA  \n",
       "1                   col0  \n",
       "2                   col0  \n",
       "3                   col0  \n",
       "4                     NA  \n",
       "5                   col0  \n",
       "6                   col0  \n",
       "7                   col0  "
      ]
     },
     "execution_count": 52,
     "metadata": {},
     "output_type": "execute_result"
    }
   ],
   "source": [
    "judasr.score()"
   ]
  },
  {
   "cell_type": "code",
   "execution_count": null,
   "metadata": {
    "ExecuteTime": {
     "start_time": "2019-08-12T02:19:46.882Z"
    }
   },
   "outputs": [
    {
     "data": {
      "image/png": "[encoded data removed]",
      "text/plain": [
       "<Figure size 1080x1080 with 9 Axes>"
      ]
     },
     "metadata": {
      "needs_background": "light"
     },
     "output_type": "display_data"
    }
   ],
   "source": [
    "judasr.plot_accuracy()"
   ]
  },
  {
   "cell_type": "markdown",
   "metadata": {},
   "source": [
    "### Regression Modelling - Scaled"
   ]
  },
  {
   "cell_type": "code",
   "execution_count": null,
   "metadata": {
    "ExecuteTime": {
     "start_time": "2019-08-12T02:19:46.894Z"
    }
   },
   "outputs": [
    {
     "name": "stdout",
     "output_type": "stream",
     "text": [
      "knn, n neighbors=range(1, 30)\n"
     ]
    },
    {
     "data": {
      "application/vnd.jupyter.widget-view+json": {
       "model_id": "15a837bbc6794bee8956f192c7c64124",
       "version_major": 2,
       "version_minor": 0
      },
      "text/plain": [
       "HBox(children=(IntProgress(value=0, max=145), HTML(value='')))"
      ]
     },
     "metadata": {},
     "output_type": "display_data"
    },
    {
     "name": "stdout",
     "output_type": "stream",
     "text": [
      "\n",
      "linear\n"
     ]
    },
    {
     "data": {
      "application/vnd.jupyter.widget-view+json": {
       "model_id": "f6d892b3ca2344adb62220851b2021c6",
       "version_major": 2,
       "version_minor": 0
      },
      "text/plain": [
       "HBox(children=(IntProgress(value=0, max=95), HTML(value='')))"
      ]
     },
     "metadata": {},
     "output_type": "display_data"
    },
    {
     "name": "stdout",
     "output_type": "stream",
     "text": [
      "\n",
      "lasso\n"
     ]
    },
    {
     "data": {
      "application/vnd.jupyter.widget-view+json": {
       "model_id": "9074948487024d11a81a24db7e1f660e",
       "version_major": 2,
       "version_minor": 0
      },
      "text/plain": [
       "HBox(children=(IntProgress(value=0, max=95), HTML(value='')))"
      ]
     },
     "metadata": {},
     "output_type": "display_data"
    },
    {
     "name": "stdout",
     "output_type": "stream",
     "text": [
      "\n",
      "ridge\n"
     ]
    },
    {
     "data": {
      "application/vnd.jupyter.widget-view+json": {
       "model_id": "1b22066289e54a6e8acadd7b6204feed",
       "version_major": 2,
       "version_minor": 0
      },
      "text/plain": [
       "HBox(children=(IntProgress(value=0, max=95), HTML(value='')))"
      ]
     },
     "metadata": {},
     "output_type": "display_data"
    },
    {
     "name": "stdout",
     "output_type": "stream",
     "text": [
      "\n",
      "svm\n"
     ]
    },
    {
     "data": {
      "application/vnd.jupyter.widget-view+json": {
       "model_id": "44d0879a51a846a79285470b16139b29",
       "version_major": 2,
       "version_minor": 0
      },
      "text/plain": [
       "HBox(children=(IntProgress(value=0, max=95), HTML(value='')))"
      ]
     },
     "metadata": {},
     "output_type": "display_data"
    },
    {
     "name": "stdout",
     "output_type": "stream",
     "text": [
      "\n",
      "svm-rbf\n"
     ]
    },
    {
     "data": {
      "application/vnd.jupyter.widget-view+json": {
       "model_id": "90afc0a601c349d580acead82f0bb9d4",
       "version_major": 2,
       "version_minor": 0
      },
      "text/plain": [
       "HBox(children=(IntProgress(value=0, max=95), HTML(value='')))"
      ]
     },
     "metadata": {},
     "output_type": "display_data"
    },
    {
     "name": "stdout",
     "output_type": "stream",
     "text": [
      "\n",
      "svm-poly\n"
     ]
    },
    {
     "data": {
      "application/vnd.jupyter.widget-view+json": {
       "model_id": "f2affc81c9694b339f6fdc795221d503",
       "version_major": 2,
       "version_minor": 0
      },
      "text/plain": [
       "HBox(children=(IntProgress(value=0, max=95), HTML(value='')))"
      ]
     },
     "metadata": {},
     "output_type": "display_data"
    }
   ],
   "source": [
    "from judas.regression.automate import Judas as JudasRegressor\n",
    "\n",
    "trials = 5\n",
    "judasr_mms = JudasRegressor()\n",
    "params = [\n",
    "    {'model': 'knn', 'trials': trials, 'k': range(1, 30), 'scaler': mms},\n",
    "    {'model': 'linear', 'trials': trials, 'scaler': mms},\n",
    "    {'model': 'lasso', 'trials': trials, 'scaler': mms},\n",
    "    {'model': 'ridge', 'trials': trials, 'scaler': mms},\n",
    "    {'model': 'svm', 'trials': trials, 'scaler': mms},\n",
    "    {'model': 'svm-rbf', 'trials': trials, 'scaler': mms},\n",
    "#     {'model': 'svm-poly', 'trials': trials, 'scaler': mms},\n",
    "    {'model': 'ensemble-decisiontree', 'trials': trials, 'maxdepth': range(1, 20), 'scaler': mms},\n",
    "    {'model': 'ensemble-randomforest', 'trials': trials, 'n_est': range(1, 20), 'scaler': mms},\n",
    "    {'model': 'ensemble-gbm', 'trials': trials, 'maxdepth': range(1, 10), 'scaler': mms},\n",
    "]\n",
    "judasr_mms.automate(X,y,params)"
   ]
  },
  {
   "cell_type": "code",
   "execution_count": null,
   "metadata": {
    "ExecuteTime": {
     "start_time": "2019-08-12T02:19:46.904Z"
    }
   },
   "outputs": [],
   "source": [
    "judasr_mms.score()"
   ]
  },
  {
   "cell_type": "code",
   "execution_count": null,
   "metadata": {
    "ExecuteTime": {
     "start_time": "2019-08-12T02:19:46.909Z"
    }
   },
   "outputs": [],
   "source": [
    "judasr_mms.plot_accuracy()"
   ]
  },
  {
   "cell_type": "code",
   "execution_count": null,
   "metadata": {
    "ExecuteTime": {
     "start_time": "2019-08-12T02:19:46.918Z"
    }
   },
   "outputs": [],
   "source": [
    "from judas.regression.automate import Judas as JudasRegressor\n",
    "\n",
    "trials = 5\n",
    "judasr_std = JudasRegressor()\n",
    "params = [\n",
    "    {'model': 'knn', 'trials': trials, 'k': range(1, 30), 'scaler': stdsc},\n",
    "    {'model': 'linear', 'trials': trials, 'scaler': stdsc},\n",
    "    {'model': 'lasso', 'trials': trials, 'scaler': stdsc},\n",
    "    {'model': 'ridge', 'trials': trials, 'scaler': stdsc},\n",
    "    {'model': 'svm', 'trials': trials, 'scaler': stdsc},\n",
    "    {'model': 'svm-rbf', 'trials': trials, 'scaler': stdsc},\n",
    "#     {'model': 'svm-poly', 'trials': trials, 'scaler': stdsc},\n",
    "    {'model': 'ensemble-decisiontree', 'trials': trials, 'maxdepth': range(1, 20), 'scaler': stdsc},\n",
    "    {'model': 'ensemble-randomforest', 'trials': trials, 'n_est': range(1, 20), 'scaler': stdsc},\n",
    "    {'model': 'ensemble-gbm', 'trials': trials, 'maxdepth': range(1, 10), 'scaler': stdsc},\n",
    "]\n",
    "judasr_std.automate(X,y,params)"
   ]
  },
  {
   "cell_type": "code",
   "execution_count": null,
   "metadata": {
    "ExecuteTime": {
     "start_time": "2019-08-12T02:19:46.924Z"
    }
   },
   "outputs": [],
   "source": [
    "judasr_std.score()"
   ]
  },
  {
   "cell_type": "code",
   "execution_count": null,
   "metadata": {
    "ExecuteTime": {
     "start_time": "2019-08-12T02:19:46.930Z"
    }
   },
   "outputs": [],
   "source": [
    "judasr_std.plot_accuracy()"
   ]
  },
  {
   "cell_type": "markdown",
   "metadata": {},
   "source": [
    "# Predict"
   ]
  },
  {
   "cell_type": "code",
   "execution_count": 51,
   "metadata": {
    "ExecuteTime": {
     "end_time": "2019-08-11T12:51:02.165214Z",
     "start_time": "2019-08-11T12:51:02.154218Z"
    }
   },
   "outputs": [
    {
     "name": "stdout",
     "output_type": "stream",
     "text": [
      "[89.     83.     85.     80.     76.     76.     86.     87.     78.\n",
      "  1.4104  1.6364  1.7008  2.     75.     55.      1.      5.    ]\n"
     ]
    }
   ],
   "source": [
    "from sklearn.model_selection import train_test_split\n",
    "X_train, X_test, y_train, y_test = train_test_split(X, y, test_size=0.25,random_state=0)\n",
    "Xp = np.array(X_test.iloc[0,:])\n",
    "print(Xp)"
   ]
  },
  {
   "cell_type": "markdown",
   "metadata": {},
   "source": [
    "## Classifier"
   ]
  },
  {
   "cell_type": "markdown",
   "metadata": {},
   "source": [
    "### KNN Classifier"
   ]
  },
  {
   "cell_type": "code",
   "execution_count": 52,
   "metadata": {
    "ExecuteTime": {
     "end_time": "2019-08-11T12:51:07.363588Z",
     "start_time": "2019-08-11T12:51:07.351592Z"
    }
   },
   "outputs": [
    {
     "data": {
      "text/plain": [
       "array([1], dtype=int64)"
      ]
     },
     "execution_count": 52,
     "metadata": {},
     "output_type": "execute_result"
    }
   ],
   "source": [
    "from sklearn.neighbors import KNeighborsClassifier\n",
    "par=int(cls_summary.loc[0]['Best Parameter'].split(\" = \")[1])\n",
    "clf = KNeighborsClassifier(n_neighbors=par)\n",
    "clf.fit(X_train, y_train)\n",
    "pr = clf.predict(Xp.reshape(1, -1))\n",
    "pr"
   ]
  },
  {
   "cell_type": "markdown",
   "metadata": {},
   "source": [
    "### Logistic Regression L1"
   ]
  },
  {
   "cell_type": "code",
   "execution_count": 53,
   "metadata": {
    "ExecuteTime": {
     "end_time": "2019-08-11T12:51:10.941636Z",
     "start_time": "2019-08-11T12:51:10.875675Z"
    }
   },
   "outputs": [
    {
     "data": {
      "text/plain": [
       "array([1], dtype=int64)"
      ]
     },
     "execution_count": 53,
     "metadata": {},
     "output_type": "execute_result"
    }
   ],
   "source": [
    "from sklearn.linear_model import LogisticRegression\n",
    "par=float(cls_summary.loc[1]['Best Parameter'].split(\" = \")[1])\n",
    "lreg1 = LogisticRegression(solver='liblinear', penalty='l1', multi_class='auto', C=par)\n",
    "lreg1.fit(X_train, y_train)\n",
    "pr = lreg1.predict(Xp.reshape(1, -1))\n",
    "pr"
   ]
  },
  {
   "cell_type": "markdown",
   "metadata": {},
   "source": [
    "### Logistic Regression L2"
   ]
  },
  {
   "cell_type": "code",
   "execution_count": 54,
   "metadata": {
    "ExecuteTime": {
     "end_time": "2019-08-11T12:51:13.836239Z",
     "start_time": "2019-08-11T12:51:13.816251Z"
    }
   },
   "outputs": [
    {
     "data": {
      "text/plain": [
       "array([1], dtype=int64)"
      ]
     },
     "execution_count": 54,
     "metadata": {},
     "output_type": "execute_result"
    }
   ],
   "source": [
    "from sklearn.linear_model import LogisticRegression\n",
    "par=float(cls_summary.loc[2]['Best Parameter'].split(\" = \")[1])\n",
    "lreg2 = LogisticRegression(solver='liblinear', penalty='l2', multi_class='auto', C=par)\n",
    "lreg2.fit(X_train, y_train)\n",
    "pr = lreg2.predict(Xp.reshape(1, -1))\n",
    "pr"
   ]
  },
  {
   "cell_type": "markdown",
   "metadata": {},
   "source": [
    "### Linear SVM L1"
   ]
  },
  {
   "cell_type": "code",
   "execution_count": 55,
   "metadata": {
    "ExecuteTime": {
     "end_time": "2019-08-11T12:51:16.044164Z",
     "start_time": "2019-08-11T12:51:15.999192Z"
    }
   },
   "outputs": [
    {
     "data": {
      "text/plain": [
       "array([1], dtype=int64)"
      ]
     },
     "execution_count": 55,
     "metadata": {},
     "output_type": "execute_result"
    }
   ],
   "source": [
    "from sklearn.svm import LinearSVC\n",
    "par=float(cls_summary.loc[3]['Best Parameter'].split(\" = \")[1])\n",
    "lsvc1 = LinearSVC(loss='squared_hinge', dual=False, penalty='l1',C=par)\n",
    "lsvc1.fit(X_train, y_train)\n",
    "pr = lsvc1.predict(Xp.reshape(1, -1))\n",
    "pr"
   ]
  },
  {
   "cell_type": "markdown",
   "metadata": {},
   "source": [
    "### Linear SVM L2"
   ]
  },
  {
   "cell_type": "code",
   "execution_count": 56,
   "metadata": {
    "ExecuteTime": {
     "end_time": "2019-08-11T12:51:22.218615Z",
     "start_time": "2019-08-11T12:51:22.204621Z"
    }
   },
   "outputs": [
    {
     "data": {
      "text/plain": [
       "array([1], dtype=int64)"
      ]
     },
     "execution_count": 56,
     "metadata": {},
     "output_type": "execute_result"
    }
   ],
   "source": [
    "from sklearn.svm import LinearSVC\n",
    "par=float(cls_summary.loc[4]['Best Parameter'].split(\" = \")[1])\n",
    "lsvc2 = LinearSVC(loss='squared_hinge', dual=False, penalty='l2',C=par)\n",
    "lsvc2.fit(X_train, y_train)\n",
    "pr = lsvc2.predict(Xp.reshape(1, -1))\n",
    "pr"
   ]
  },
  {
   "cell_type": "markdown",
   "metadata": {},
   "source": [
    "## Regression"
   ]
  },
  {
   "cell_type": "markdown",
   "metadata": {},
   "source": [
    "### KNN Regressor"
   ]
  },
  {
   "cell_type": "code",
   "execution_count": null,
   "metadata": {
    "ExecuteTime": {
     "end_time": "2019-08-02T10:15:25.967196Z",
     "start_time": "2019-08-02T10:15:25.956200Z"
    }
   },
   "outputs": [],
   "source": [
    "from sklearn.neighbors import KNeighborsRegressor\n",
    "par=int(reg_summary.loc[0]['Best Parameter'].split(\" = \")[1])\n",
    "reg = KNeighborsRegressor(n_neighbors=21)\n",
    "reg.fit(X_train, y_train)\n",
    "pr = reg.predict(Xp.reshape(1, -1))\n",
    "pr"
   ]
  },
  {
   "cell_type": "markdown",
   "metadata": {},
   "source": [
    "### Lasso Regressor"
   ]
  },
  {
   "cell_type": "code",
   "execution_count": null,
   "metadata": {
    "ExecuteTime": {
     "end_time": "2019-08-02T10:20:35.887824Z",
     "start_time": "2019-08-02T10:20:35.876830Z"
    }
   },
   "outputs": [],
   "source": [
    "from sklearn.linear_model import Lasso\n",
    "par=float(reg_summary.loc[1]['Best Parameter'].split(\" = \")[1])\n",
    "lasso = Lasso(alpha=par)\n",
    "lasso.fit(X_train, y_train)\n",
    "pr = lasso.predict(Xp.reshape(1, -1))\n",
    "pr"
   ]
  },
  {
   "cell_type": "markdown",
   "metadata": {},
   "source": [
    "### Ridge Regressor"
   ]
  },
  {
   "cell_type": "code",
   "execution_count": null,
   "metadata": {
    "ExecuteTime": {
     "end_time": "2019-08-02T10:20:04.196480Z",
     "start_time": "2019-08-02T10:20:04.166501Z"
    }
   },
   "outputs": [],
   "source": [
    "from sklearn.linear_model import Ridge\n",
    "par=float(reg_summary.loc[2]['Best Parameter'].split(\" = \")[1])\n",
    "ridge = Ridge(alpha=par)\n",
    "ridge.fit(X_train, y_train)\n",
    "pr = ridge.predict(Xp.reshape(1, -1))\n",
    "pr"
   ]
  },
  {
   "cell_type": "markdown",
   "metadata": {},
   "source": [
    "**With Library provided by**: Christopher Monterola and Jude Teves -  JUDAS, updated by Radney Racela "
   ]
  }
 ],
 "metadata": {
  "kernelspec": {
   "display_name": "Python 3",
   "language": "python",
   "name": "python3"
  },
  "language_info": {
   "codemirror_mode": {
    "name": "ipython",
    "version": 3
   },
   "file_extension": ".py",
   "mimetype": "text/x-python",
   "name": "python",
   "nbconvert_exporter": "python",
   "pygments_lexer": "ipython3",
   "version": "3.6.7"
  }
 },
 "nbformat": 4,
 "nbformat_minor": 2
}
